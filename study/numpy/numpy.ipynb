{
  "nbformat": 4,
  "nbformat_minor": 0,
  "metadata": {
    "colab": {
      "provenance": [],
      "authorship_tag": "ABX9TyNT8YwBwD+9wXsFjs0iogUK",
      "include_colab_link": true
    },
    "kernelspec": {
      "name": "python3",
      "display_name": "Python 3"
    },
    "language_info": {
      "name": "python"
    }
  },
  "cells": [
    {
      "cell_type": "markdown",
      "metadata": {
        "id": "view-in-github",
        "colab_type": "text"
      },
      "source": [
        "<a href=\"https://colab.research.google.com/github/rbdus0715/kaggle/blob/main/study/numpy/numpy.ipynb\" target=\"_parent\"><img src=\"https://colab.research.google.com/assets/colab-badge.svg\" alt=\"Open In Colab\"/></a>"
      ]
    },
    {
      "cell_type": "code",
      "execution_count": 1,
      "metadata": {
        "id": "pmGAlHIIypRX"
      },
      "outputs": [],
      "source": [
        "import numpy as np"
      ]
    },
    {
      "cell_type": "markdown",
      "source": [
        "## **1. ndarray**\n",
        "\n",
        "- 넘파이에서 유용하게 사용될 수 있는 여러 속성을 가진 배열 객체\n",
        "- ndarray 객체는 np.array() 함수를 통해 생성한다.\n",
        "- ndarray 생성자를 통해 만들수도 있지만 doc에서는 array()를 통하는 것을 추천한다.\n",
        "\n",
        "- 멤버변수와 멤버함수에 대한 자세한 내용은 [링크](https://numpy.org/doc/stable/reference/generated/numpy.ndarray.html)를 확인한다.\n",
        "\n",
        "    - type(ndarray)\n",
        "    - .shape\n",
        "    - .ndim\n",
        "    - .dtype\n",
        "    - 자동 타입 변환\n",
        "    - 강제 타입 변환 .astype"
      ],
      "metadata": {
        "id": "f49ablXty6E7"
      }
    },
    {
      "cell_type": "code",
      "source": [
        "# 넘파이 배열 생성하기\n",
        "# np.array() 함수 사용\n",
        "array1 = np.array([1, 2, 3])\n",
        "\n",
        "# 데이터타입\n",
        "print(type(array1))\n",
        "\n",
        "# 배열 모양\n",
        "print(array1.shape)\n",
        "\n",
        "# 차원\n",
        "print(array1.ndim)\n",
        "\n",
        "# 객체 내의 데이터값의 데이터타입\n",
        "print(array1.dtype)\n",
        "\n",
        "# 데이터타입이 다른 것이 데이터로 들어간다면 더 큰 데이터 타입으로 통일됨\n",
        "list2 = [1, 2, 'test']\n",
        "array2 = np.array(list2)\n",
        "print(array2.dtype)\n",
        "\n",
        "# 데이터타입 변경하기\n",
        "array3 = array1.astype('float64')\n",
        "print(array3.dtype)"
      ],
      "metadata": {
        "id": "1AK9OxUNy5Pt",
        "outputId": "9cec9a72-48c2-446f-affc-c46240a91dbc",
        "colab": {
          "base_uri": "https://localhost:8080/"
        }
      },
      "execution_count": 2,
      "outputs": [
        {
          "output_type": "stream",
          "name": "stdout",
          "text": [
            "<class 'numpy.ndarray'>\n",
            "(3,)\n",
            "1\n",
            "int64\n",
            "<U21\n",
            "float64\n"
          ]
        }
      ]
    },
    {
      "cell_type": "markdown",
      "source": [
        "## **2. ndarray 초기화 메서드**\n",
        "\n",
        "- 특정 크기와 차원을 가진 배열을 연속값, 0, 1로 초기화 해야하는 경우\n",
        "- arange, zeros, ones"
      ],
      "metadata": {
        "id": "8w2ILj646uuY"
      }
    },
    {
      "cell_type": "code",
      "source": [
        "# 연속배열\n",
        "seq_array1 = np.arange(10)\n",
        "seq_array2 = np.arange(3, 8)\n",
        "seq_array3 = np.arange(3, 8, 2)\n",
        "print(seq_array1, seq_array2, seq_array3)\n",
        "\n",
        "# 모두 0으로 초기화\n",
        "zero_array = np.zeros((3,2), dtype='int32')\n",
        "print(zero_array)\n",
        "\n",
        "# 모두 1로 초기화\n",
        "one_array = np.ones((3,2), dtype='float32')\n",
        "print(one_array)"
      ],
      "metadata": {
        "id": "PvZOOANdz3AX",
        "outputId": "a91a7794-cd2b-47b2-beae-6e9a7f60e731",
        "colab": {
          "base_uri": "https://localhost:8080/"
        }
      },
      "execution_count": 3,
      "outputs": [
        {
          "output_type": "stream",
          "name": "stdout",
          "text": [
            "[0 1 2 3 4 5 6 7 8 9] [3 4 5 6 7] [3 5 7]\n",
            "[[0 0]\n",
            " [0 0]\n",
            " [0 0]]\n",
            "[[1. 1.]\n",
            " [1. 1.]\n",
            " [1. 1.]]\n"
          ]
        }
      ]
    },
    {
      "cell_type": "markdown",
      "source": [
        "## **3. ndarray 차원과 크기 변경하기**\n",
        "\n",
        "- reshape"
      ],
      "metadata": {
        "id": "Yxh3Wte78-Vz"
      }
    },
    {
      "cell_type": "code",
      "source": [
        "array1 = np.arange(10)\n",
        "\n",
        "array2 = array1.reshape(2, 5)\n",
        "print(array2)\n",
        "\n",
        "array3 = array1.reshape(5, 2)\n",
        "print(array3)\n",
        "\n",
        "# -1는 예상되는 크기로 알아서 지정해서 reshape\n",
        "array4 = array1.reshape(-1, 5)\n",
        "print(array4)"
      ],
      "metadata": {
        "id": "hPzdWtin9XwJ",
        "outputId": "deb2e0bd-5021-476d-96c2-22df43ed4285",
        "colab": {
          "base_uri": "https://localhost:8080/"
        }
      },
      "execution_count": 4,
      "outputs": [
        {
          "output_type": "stream",
          "name": "stdout",
          "text": [
            "[[0 1 2 3 4]\n",
            " [5 6 7 8 9]]\n",
            "[[0 1]\n",
            " [2 3]\n",
            " [4 5]\n",
            " [6 7]\n",
            " [8 9]]\n",
            "[[0 1 2 3 4]\n",
            " [5 6 7 8 9]]\n"
          ]
        }
      ]
    },
    {
      "cell_type": "markdown",
      "source": [
        "## **4. ndarray 인덱싱**\n",
        "\n",
        "- 특정 데이터만 추출\n",
        "- 슬라이싱\n",
        "- 팬시 인덱싱\n",
        "- 불린 인덱싱"
      ],
      "metadata": {
        "id": "KnlnA4NE-yPF"
      }
    },
    {
      "cell_type": "code",
      "source": [
        "# 특정 데이터 추출\n",
        "array1 = np.arange(1, 10)\n",
        "print(array1)\n",
        "array2 = array1.reshape(3, 3)\n",
        "print(array2[2, 2])\n",
        "\n",
        "# 슬라이싱 [시작 인덱스:시작 인덱스부터 슬라이싱 할 칸 수]\n",
        "array3 = array1[0:3]\n",
        "print(array3)\n",
        "\n",
        "# 팬시 인덱싱 : 슬라이싱과 인덱스를 복합적으로 사용\n",
        "array4 = array2[[0,1], 2]\n",
        "print(array4)\n",
        "\n",
        "# 불린 인덱싱 (필터링 기능)\n",
        "array3 = array1[array1 > 5]\n",
        "print(array1>5)\n",
        "print(array3)"
      ],
      "metadata": {
        "id": "L_tSoShh_LX0",
        "outputId": "22efa280-b76f-46e6-b031-66c947434538",
        "colab": {
          "base_uri": "https://localhost:8080/"
        }
      },
      "execution_count": 5,
      "outputs": [
        {
          "output_type": "stream",
          "name": "stdout",
          "text": [
            "[1 2 3 4 5 6 7 8 9]\n",
            "9\n",
            "[1 2 3]\n",
            "[3 6]\n",
            "[False False False False False  True  True  True  True]\n",
            "[6 7 8 9]\n"
          ]
        }
      ]
    },
    {
      "cell_type": "markdown",
      "source": [
        "## **5. 정렬**\n",
        "\n",
        "- 원본을 보존하는 정렬 vs 원본 자체를 정렬\n",
        "- 내림차순 정렬 오름차순 정렬 이후 [::-1]"
      ],
      "metadata": {
        "id": "vNtGfcqt_GG2"
      }
    },
    {
      "cell_type": "code",
      "source": [
        "# 원본 보존\n",
        "org_array = np.array([3, 1, 9, 5])\n",
        "sort_array = np.sort(org_array)\n",
        "print(sort_array)\n",
        "print(org_array)\n",
        "\n",
        "# 원본 자체를 정렬, 정렬된 배열을 반환하지 않는다\n",
        "sort_array2 = org_array.sort()\n",
        "print(sort_array2)\n",
        "print(org_array)\n",
        "\n",
        "# 내림차순 정렬\n",
        "print(org_array[::-1])"
      ],
      "metadata": {
        "id": "4DIL7l8pB9V4",
        "outputId": "619f7612-3267-41dd-f235-03e84ee9d5c0",
        "colab": {
          "base_uri": "https://localhost:8080/"
        }
      },
      "execution_count": 6,
      "outputs": [
        {
          "output_type": "stream",
          "name": "stdout",
          "text": [
            "[1 3 5 9]\n",
            "[3 1 9 5]\n",
            "None\n",
            "[1 3 5 9]\n",
            "[9 5 3 1]\n"
          ]
        }
      ]
    },
    {
      "cell_type": "markdown",
      "source": [
        "- 2차원 행렬에서 정렬\n",
        "- 정렬된 행렬의 인덱스 반환 np.argsort()"
      ],
      "metadata": {
        "id": "KBafKMFwEUbD"
      }
    },
    {
      "cell_type": "code",
      "source": [
        "# 원하는 축을 기준으로 정렬\n",
        "array2d = np.array([[8, 12],\n",
        "                    [7, 1]])\n",
        "\n",
        "sort_axis0 = np.sort(array2d, axis=0)\n",
        "print(sort_axis0)\n",
        "\n",
        "sort_axis1 = np.sort(array2d, axis=1)\n",
        "print(sort_axis1)\n",
        "\n",
        "# 정렬된 행렬의 인덱스 반환\n",
        "org_array = np.array([3, 1, 9, 5])\n",
        "print(np.argsort(org_array))"
      ],
      "metadata": {
        "id": "WgDTjWKqETzI",
        "outputId": "48c83817-974a-41d2-a013-adf8dc8be0ae",
        "colab": {
          "base_uri": "https://localhost:8080/"
        }
      },
      "execution_count": 7,
      "outputs": [
        {
          "output_type": "stream",
          "name": "stdout",
          "text": [
            "[[ 7  1]\n",
            " [ 8 12]]\n",
            "[[ 8 12]\n",
            " [ 1  7]]\n",
            "[1 0 3 2]\n"
          ]
        }
      ]
    },
    {
      "cell_type": "markdown",
      "source": [
        "## **6. 행렬 연산**\n",
        "\n",
        "- 행렬 내적(행렬 곱) np.dot()\n",
        "- 전치행렬 np.transpose()"
      ],
      "metadata": {
        "id": "Ojdku2iL_ID1"
      }
    },
    {
      "cell_type": "code",
      "source": [
        "# (2, 3) * (3, 2) = (2, 2)\n",
        "A = np.array([\n",
        "    [1, 2, 3],\n",
        "    [4, 5, 6]\n",
        "])\n",
        "\n",
        "B = np.array([\n",
        "    [7, 8],\n",
        "    [9, 10],\n",
        "    [11, 12]\n",
        "])\n",
        "\n",
        "dot_product = np.dot(A, B)\n",
        "print(dot_product)\n",
        "\n",
        "print(np.transpose(A))"
      ],
      "metadata": {
        "id": "5MqGnA1pFL1W",
        "outputId": "87b40133-8349-422b-fb38-3683b159035f",
        "colab": {
          "base_uri": "https://localhost:8080/"
        }
      },
      "execution_count": 8,
      "outputs": [
        {
          "output_type": "stream",
          "name": "stdout",
          "text": [
            "[[ 58  64]\n",
            " [139 154]]\n",
            "[[1 4]\n",
            " [2 5]\n",
            " [3 6]]\n"
          ]
        }
      ]
    }
  ]
}