{
  "nbformat": 4,
  "nbformat_minor": 0,
  "metadata": {
    "colab": {
      "provenance": [],
      "authorship_tag": "ABX9TyN84mVjD8Pw9IDbyzpoguvh",
      "include_colab_link": true
    },
    "kernelspec": {
      "name": "python3",
      "display_name": "Python 3"
    },
    "language_info": {
      "name": "python"
    }
  },
  "cells": [
    {
      "cell_type": "markdown",
      "metadata": {
        "id": "view-in-github",
        "colab_type": "text"
      },
      "source": [
        "<a href=\"https://colab.research.google.com/github/rbdus0715/Machine-Learning/blob/main/study/sklearn/SVD.ipynb\" target=\"_parent\"><img src=\"https://colab.research.google.com/assets/colab-badge.svg\" alt=\"Open In Colab\"/></a>"
      ]
    },
    {
      "cell_type": "markdown",
      "source": [
        "## **SVD**\n",
        "\n",
        "### (1) SVD란?\n",
        "- singular value decomposition\n",
        "- PCA는 정방행렬(행, 열 크기가 같은 행렬)만을 고유벡터로 분해할 수 있지만, SVD는 다른 행렬도 가능\n",
        "\n",
        "### (2) 수학적 분석\n",
        "- $A=U\\sum _{\\ }^{\\ }{V}^T$\n",
        "- SVD는 특이값 분해로 불리며, 행렬 U와 V에 속한 벡터는 특이벡터, 모든 특이 벡터는 서로 직교하는 성질을 가짐\n",
        "- $\\sum$는 대각행렬\n",
        "- 차원이 m x n일 때 $U$의 차원이 m x m, $\\sum$의 차원이 m x n, ${V}^T$의 차원이 n x n으로 분해됨\n",
        "- truncated SVD는 $\\sum$의 대각원소 중 상위 몇 개만 추출해서 대응하는 $U, V$도 함께 제거해 더욱 차원을 줄임"
      ],
      "metadata": {
        "id": "3mz9NrEfLuQK"
      }
    },
    {
      "cell_type": "code",
      "execution_count": 1,
      "metadata": {
        "colab": {
          "base_uri": "https://localhost:8080/"
        },
        "id": "JYvzQHbILqMm",
        "outputId": "1169f2ee-cb70-4cec-918c-3531699866c7"
      },
      "outputs": [
        {
          "output_type": "execute_result",
          "data": {
            "text/plain": [
              "array([[-0.212, -0.285, -0.574, -0.44 ],\n",
              "       [-0.33 ,  1.184,  1.615,  0.367],\n",
              "       [-0.014,  0.63 ,  1.71 , -1.327],\n",
              "       [ 0.402, -0.191,  1.404, -1.969]])"
            ]
          },
          "metadata": {},
          "execution_count": 1
        }
      ],
      "source": [
        "import numpy as np\n",
        "from numpy.linalg import svd\n",
        "\n",
        "np.random.seed(121)\n",
        "a = np.random.randn(4, 4)\n",
        "np.round(a, 3)"
      ]
    },
    {
      "cell_type": "code",
      "source": [
        "# 위 행렬에서 SVD를 적용해 U, sigma, Vt를 도출하기\n",
        "U, Sigma, Vt = svd(a)\n",
        "print('U :\\n', U)\n",
        "print('sigma :\\n', Sigma)\n",
        "print('Vt :\\n', Vt)"
      ],
      "metadata": {
        "colab": {
          "base_uri": "https://localhost:8080/"
        },
        "id": "M2wW-Ce-OhGp",
        "outputId": "31021e9c-fdc5-4e42-8de9-d18a1cc56819"
      },
      "execution_count": 2,
      "outputs": [
        {
          "output_type": "stream",
          "name": "stdout",
          "text": [
            "U :\n",
            " [[-0.07913928 -0.31822729  0.86653217  0.37628494]\n",
            " [ 0.38294523  0.78655287  0.12002097  0.46934262]\n",
            " [ 0.65640669  0.02243181  0.35668848 -0.66437971]\n",
            " [ 0.64515128 -0.52873697 -0.32785711  0.44353889]]\n",
            "sigma :\n",
            " [3.4229581  2.02287339 0.46263157 0.07935069]\n",
            "Vt :\n",
            " [[ 0.04100747  0.22367823  0.78643002 -0.57429458]\n",
            " [-0.20019867  0.56209596  0.37041464  0.71187191]\n",
            " [-0.77847455  0.3945136  -0.33259252 -0.3573774 ]\n",
            " [-0.5934781  -0.69164673  0.36565426  0.18895901]]\n"
          ]
        }
      ]
    },
    {
      "cell_type": "code",
      "source": [
        "# 복원\n",
        "sigma_mat = np.diag(Sigma)\n",
        "a_ = np.dot(np.dot(U, sigma_mat), Vt)\n",
        "print(np.round(a_, 3))"
      ],
      "metadata": {
        "colab": {
          "base_uri": "https://localhost:8080/"
        },
        "id": "pQQiYoAcPTjS",
        "outputId": "ea0a9773-f05e-4535-def4-a78725c98157"
      },
      "execution_count": 3,
      "outputs": [
        {
          "output_type": "stream",
          "name": "stdout",
          "text": [
            "[[-0.212 -0.285 -0.574 -0.44 ]\n",
            " [-0.33   1.184  1.615  0.367]\n",
            " [-0.014  0.63   1.71  -1.327]\n",
            " [ 0.402 -0.191  1.404 -1.969]]\n"
          ]
        }
      ]
    },
    {
      "cell_type": "code",
      "source": [
        "# 데이터 세트가 로우 간 의존성이 있을 경우\n",
        "# ex) 3번째로우 = 1번째로우 + 2번째로우, 4번째로우 = 1번째 로우\n",
        "\n",
        "a[2] = a[0] + a[1]\n",
        "a[3] = a[0]\n",
        "np.round(a, 3)"
      ],
      "metadata": {
        "id": "VgX_UFj4RPto",
        "colab": {
          "base_uri": "https://localhost:8080/"
        },
        "outputId": "6ba82648-1dc4-4758-e223-681456cdf7b9"
      },
      "execution_count": 4,
      "outputs": [
        {
          "output_type": "execute_result",
          "data": {
            "text/plain": [
              "array([[-0.212, -0.285, -0.574, -0.44 ],\n",
              "       [-0.33 ,  1.184,  1.615,  0.367],\n",
              "       [-0.542,  0.899,  1.041, -0.073],\n",
              "       [-0.212, -0.285, -0.574, -0.44 ]])"
            ]
          },
          "metadata": {},
          "execution_count": 4
        }
      ]
    },
    {
      "cell_type": "code",
      "source": [
        "U, Sigma, Vt = svd(a)\n",
        "np.round(Sigma, 3)"
      ],
      "metadata": {
        "colab": {
          "base_uri": "https://localhost:8080/"
        },
        "id": "QI5FAVsymQ4_",
        "outputId": "318c889d-581f-40c1-eab7-3cdc305e8f5c"
      },
      "execution_count": 5,
      "outputs": [
        {
          "output_type": "execute_result",
          "data": {
            "text/plain": [
              "array([2.663, 0.807, 0.   , 0.   ])"
            ]
          },
          "metadata": {},
          "execution_count": 5
        }
      ]
    },
    {
      "cell_type": "code",
      "source": [
        "# Sigma 값 중 2개가 0으로 변함\n",
        "# = 선형 독립인 로우 벡터의 개수가 2개라는 의미\n",
        "# = 행렬의 Rank가 2\n",
        "\n",
        "# 원본 행렬 복원\n",
        "U_ = U[:, :2]\n",
        "Sigma_ = np.diag(Sigma[:2])\n",
        "Vt_ = Vt[:2]\n",
        "print(U_.shape, Sigma_.shape, Vt_.shape)\n",
        "a_ = np.dot(np.dot(U_, Sigma_), Vt_)\n",
        "np.round(a_, 3)"
      ],
      "metadata": {
        "colab": {
          "base_uri": "https://localhost:8080/"
        },
        "id": "tA1AMMM_mYST",
        "outputId": "cc0ac8ea-d022-4ba5-aa79-7fc79630deba"
      },
      "execution_count": 6,
      "outputs": [
        {
          "output_type": "stream",
          "name": "stdout",
          "text": [
            "(4, 2) (2, 2) (2, 4)\n"
          ]
        },
        {
          "output_type": "execute_result",
          "data": {
            "text/plain": [
              "array([[-0.212, -0.285, -0.574, -0.44 ],\n",
              "       [-0.33 ,  1.184,  1.615,  0.367],\n",
              "       [-0.542,  0.899,  1.041, -0.073],\n",
              "       [-0.212, -0.285, -0.574, -0.44 ]])"
            ]
          },
          "metadata": {},
          "execution_count": 6
        }
      ]
    },
    {
      "cell_type": "markdown",
      "source": [
        "### (3) Truncated SVD"
      ],
      "metadata": {
        "id": "05hsJOVSnOsZ"
      }
    },
    {
      "cell_type": "code",
      "source": [
        "import numpy as np\n",
        "from scipy.sparse.linalg import svds\n",
        "from scipy.linalg import svd\n",
        "\n",
        "np.random.seed(21)\n",
        "matrix = np.random.random((6, 6))\n",
        "print('원본 행렬 : ', matrix)\n",
        "U, Sigma, Vt = svd(matrix, full_matrices=False)\n",
        "print('\\n분해 행렬 차원 : ', U.shape, Sigma.shape, Vt.shape)\n",
        "print('\\n시그마 행렬', Sigma)"
      ],
      "metadata": {
        "id": "XLGZVWD2nGwR",
        "colab": {
          "base_uri": "https://localhost:8080/"
        },
        "outputId": "9c168866-9705-408e-97c1-7731690f336c"
      },
      "execution_count": 8,
      "outputs": [
        {
          "output_type": "stream",
          "name": "stdout",
          "text": [
            "원본 행렬 :  [[0.04872488 0.28910966 0.72096635 0.02161625 0.20592277 0.05077326]\n",
            " [0.30227189 0.66391029 0.30811439 0.58359128 0.06957095 0.86740448]\n",
            " [0.13324052 0.17812466 0.49592955 0.86369964 0.75894384 0.97048513]\n",
            " [0.75930255 0.38425003 0.40871833 0.71336043 0.27066977 0.85410287]\n",
            " [0.91316397 0.76075607 0.51666854 0.16783577 0.29869229 0.28394305]\n",
            " [0.32721258 0.46014033 0.54436836 0.21740087 0.79986833 0.72668445]]\n",
            "\n",
            "분해 행렬 차원 :  (6, 6) (6,) (6, 6)\n",
            "\n",
            "시그마 행렬 [2.95668773 1.02918132 0.80828638 0.48142609 0.37477594 0.13880505]\n"
          ]
        }
      ]
    },
    {
      "cell_type": "code",
      "source": [
        "# truncated SVD로 Sigma 행렬의 특이값을 4개로 하여 수행\n",
        "num_components = 4\n",
        "U_tr, Sigma_tr, Vt_tr = svds(matrix, k=num_components)\n",
        "print('\\ntruncated SVD 분해 행렬 차원 : ', U_tr.shape, Sigma_tr.shape, Vt_tr.shape)\n",
        "print('\\n시그마 행렬', Sigma_tr)\n",
        "\n",
        "matrix_tr = np.dot(np.dot(U_tr, np.diag(Sigma_tr)), Vt_tr)\n",
        "print('분해 후 복원 행렬', matrix_tr)"
      ],
      "metadata": {
        "colab": {
          "base_uri": "https://localhost:8080/"
        },
        "id": "fB4_avRzRHQa",
        "outputId": "d6f7378d-8efe-4343-82fb-34d19fb9898d"
      },
      "execution_count": 10,
      "outputs": [
        {
          "output_type": "stream",
          "name": "stdout",
          "text": [
            "\n",
            "truncated SVD 분해 행렬 차원 :  (6, 4) (4,) (4, 6)\n",
            "\n",
            "시그마 행렬 [0.48142609 0.80828638 1.02918132 2.95668773]\n",
            "분해 후 복원 행렬 [[ 0.00222862  0.3867835   0.63436996 -0.04337066  0.24736598  0.09490969]\n",
            " [ 0.34727072  0.57086908  0.3926838   0.65882151  0.03175713  0.81319366]\n",
            " [ 0.12037082  0.19718315  0.46787356  0.77953705  0.75810557  1.0443682 ]\n",
            " [ 0.70042425  0.51277316  0.30154029  0.67120853  0.33061613  0.87258649]\n",
            " [ 0.92352374  0.73253771  0.53265522  0.12875768  0.279496    0.32401804]\n",
            " [ 0.37447425  0.36891466  0.63651796  0.35029129  0.77017476  0.61954094]]\n"
          ]
        }
      ]
    },
    {
      "cell_type": "markdown",
      "source": [
        "### (4) 사이킷런 TruncatedSVD 클래스"
      ],
      "metadata": {
        "id": "PvGlpG-fSgKv"
      }
    },
    {
      "cell_type": "code",
      "source": [
        "from sklearn.decomposition import TruncatedSVD, PCA\n",
        "from sklearn.datasets import load_iris\n",
        "import matplotlib.pyplot as plt\n",
        "\n",
        "iris = load_iris()\n",
        "iris_ftrs = iris.data\n",
        "\n",
        "tsvd = TruncatedSVD(n_components=2)\n",
        "tsvd.fit(iris_ftrs)\n",
        "iris_tsvd = tsvd.transform(iris_ftrs)\n",
        "\n",
        "plt.scatter(x=iris_tsvd[:, 0], y=iris_tsvd[:, 1], c=iris.target)\n",
        "plt.xlabel('truncatedSVD comp1')\n",
        "plt.ylabel('truncatedSVD comp2')"
      ],
      "metadata": {
        "colab": {
          "base_uri": "https://localhost:8080/",
          "height": 468
        },
        "id": "hkam-JgASNL5",
        "outputId": "5296c6d1-adcf-4398-e7bc-61c692c783de"
      },
      "execution_count": 12,
      "outputs": [
        {
          "output_type": "execute_result",
          "data": {
            "text/plain": [
              "Text(0, 0.5, 'truncatedSVD comp2')"
            ]
          },
          "metadata": {},
          "execution_count": 12
        },
        {
          "output_type": "display_data",
          "data": {
            "text/plain": [
              "<Figure size 640x480 with 1 Axes>"
            ],
            "image/png": "[encoded data removed]"
          },
          "metadata": {}
        }
      ]
    },
    {
      "cell_type": "markdown",
      "source": [
        "### (5) 추가 TMI\n",
        "\n",
        "- PCA가 SVD 알고리즘 기반으로 구현됨, 하지만 PCA는 밀집 행렬에 대한 변환만 가능하며, SVD는 희소 행렬에 대한 변환도 가능하다.\n",
        "- SVD는 PCA와 유하사게 컴퓨터 비전 영역에서 이미지 압축을 통한 패턴 인식과 신호 처리 분야에 사용된다.\n",
        "- SVD 텍스트의 토픽 모델링 기법인 LSA의 기반 알고리즘이다."
      ],
      "metadata": {
        "id": "LA2D8a6BTjuu"
      }
    }
  ]
}