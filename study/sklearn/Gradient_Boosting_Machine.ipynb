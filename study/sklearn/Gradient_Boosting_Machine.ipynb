{
  "nbformat": 4,
  "nbformat_minor": 0,
  "metadata": {
    "colab": {
      "provenance": [],
      "authorship_tag": "ABX9TyNYkS9+7lFAq5rEHHC8pYl5",
      "include_colab_link": true
    },
    "kernelspec": {
      "name": "python3",
      "display_name": "Python 3"
    },
    "language_info": {
      "name": "python"
    }
  },
  "cells": [
    {
      "cell_type": "markdown",
      "metadata": {
        "id": "view-in-github",
        "colab_type": "text"
      },
      "source": [
        "<a href=\"https://colab.research.google.com/github/rbdus0715/Machine-Learning/blob/main/study/sklearn/Gradient_Boosting_Machine.ipynb\" target=\"_parent\"><img src=\"https://colab.research.google.com/assets/colab-badge.svg\" alt=\"Open In Colab\"/></a>"
      ]
    },
    {
      "cell_type": "markdown",
      "source": [
        "## **GBM**\n",
        "\n",
        "### (1) GBM이란?\n",
        "- 여러 개의 약한 학습기(week learner)를 순차적으로 학습-예측하면서 잘못 예측한 데이터에 가중치 부여를 통해 오류를 개선해 나가면서 학습하는 방식\n",
        "- 부스팅 방식 중 대표적인 에이다부스트는 데이터에 각각 가중치를 부여하는 방식\n",
        "- GBM은 가중치 업데이트를 경사 하강법을 이용하는 것이 큰 차이점\n",
        "\n",
        "### (2) 하이퍼 파라미터\n",
        "트리 기반 자체의 파라미터\n",
        "loss\n",
        "learning_rate\n",
        "n_estimators : week learner의 개수\n",
        "subsample : 학습에 사용하는 데이터의 샘플링 비율"
      ],
      "metadata": {
        "id": "GKEJhB_z24yU"
      }
    },
    {
      "cell_type": "code",
      "execution_count": 1,
      "metadata": {
        "id": "GE6rHsyZ2yBa"
      },
      "outputs": [],
      "source": [
        "import pandas as pd\n",
        "from sklearn.ensemble import GradientBoostingClassifier\n",
        "import time\n",
        "\n",
        "from sklearn.metrics import accuracy_score\n",
        "from sklearn.datasets import load_breast_cancer\n",
        "from sklearn.model_selection import train_test_split\n",
        "\n",
        "cancer = load_breast_cancer()\n",
        "\n",
        "df = pd.DataFrame(cancer.data, columns=cancer.feature_names)"
      ]
    },
    {
      "cell_type": "code",
      "source": [
        "X_train, X_test, y_train, y_test = train_test_split(cancer.data, cancer.target, test_size=0.2, random_state=156)\n",
        "\n",
        "start_time = time.time()\n",
        "\n",
        "gb_clf = GradientBoostingClassifier(random_state=0)\n",
        "gb_clf.fit(X_train, y_train)\n",
        "gb_pred = gb_clf.predict(X_test)\n",
        "gb_accuracy = accuracy_score(y_test, gb_pred)\n",
        "\n",
        "print(gb_accuracy)\n",
        "print('수행시간 : ', time.time()-start_time, ' 초')"
      ],
      "metadata": {
        "colab": {
          "base_uri": "https://localhost:8080/"
        },
        "id": "r8E41ube4EMJ",
        "outputId": "dc87218c-1375-4679-cf5b-369d294fa9da"
      },
      "execution_count": 3,
      "outputs": [
        {
          "output_type": "stream",
          "name": "stdout",
          "text": [
            "0.956140350877193\n",
            "수행시간 :  0.8004322052001953  초\n"
          ]
        }
      ]
    },
    {
      "cell_type": "markdown",
      "source": [
        "하이퍼 파라미터 튜닝"
      ],
      "metadata": {
        "id": "acM_l5pq5f58"
      }
    },
    {
      "cell_type": "code",
      "source": [
        "from sklearn.model_selection import GridSearchCV\n",
        "\n",
        "params = {\n",
        "    'n_estimators' : [100, 500],\n",
        "    'learning_rate' : [0.05, 0.1]\n",
        "}\n",
        "\n",
        "grid_cv = GridSearchCV(gb_clf, param_grid=params, cv=2, verbose=1)\n",
        "grid_cv.fit(X_train, y_train)\n",
        "print(grid_cv.best_params_, grid_cv.best_score_)"
      ],
      "metadata": {
        "colab": {
          "base_uri": "https://localhost:8080/"
        },
        "id": "LqsFUYdT4fLl",
        "outputId": "b96a8372-803e-459f-b406-c788b9029dc2"
      },
      "execution_count": 4,
      "outputs": [
        {
          "output_type": "stream",
          "name": "stdout",
          "text": [
            "Fitting 2 folds for each of 4 candidates, totalling 8 fits\n",
            "{'learning_rate': 0.1, 'n_estimators': 500} 0.95166743952392\n"
          ]
        }
      ]
    },
    {
      "cell_type": "code",
      "source": [
        "gb_pred = grid_cv.best_estimator_.predict(X_test)\n",
        "gb_accuracy = accuracy_score(y_test, gb_pred)\n",
        "print(gb_accuracy)"
      ],
      "metadata": {
        "colab": {
          "base_uri": "https://localhost:8080/"
        },
        "id": "jBIu_s7L53x-",
        "outputId": "6b09191e-8ee1-4b3e-c8b5-1536967098e7"
      },
      "execution_count": 5,
      "outputs": [
        {
          "output_type": "stream",
          "name": "stdout",
          "text": [
            "0.9736842105263158\n"
          ]
        }
      ]
    }
  ]
}