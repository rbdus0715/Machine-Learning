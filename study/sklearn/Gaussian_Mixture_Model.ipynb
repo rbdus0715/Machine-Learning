{
  "nbformat": 4,
  "nbformat_minor": 0,
  "metadata": {
    "colab": {
      "provenance": [],
      "authorship_tag": "ABX9TyNi2b+Ce1A79/D+afW5XGH0",
      "include_colab_link": true
    },
    "kernelspec": {
      "name": "python3",
      "display_name": "Python 3"
    },
    "language_info": {
      "name": "python"
    }
  },
  "cells": [
    {
      "cell_type": "markdown",
      "metadata": {
        "id": "view-in-github",
        "colab_type": "text"
      },
      "source": [
        "<a href=\"https://colab.research.google.com/github/rbdus0715/Machine-Learning/blob/main/study/sklearn/Gaussian_Mixture_Model.ipynb\" target=\"_parent\"><img src=\"https://colab.research.google.com/assets/colab-badge.svg\" alt=\"Open In Colab\"/></a>"
      ]
    },
    {
      "cell_type": "markdown",
      "source": [
        "## **GMM**\n",
        "\n",
        "### (1) GMM이란?\n",
        "- 가정 상황 : 군집화를 적용하고자 하는 데이터가 여러 개의 가우시안 분포를 가지 데이터 집합들이 섞여서 생성된 것임\n",
        "    - 가우시안 분포는 좌우 대칭형의 종 형태를 가진 연속확률분포 (정규 분포)\n",
        "- 데이터 세트를 구성하는 여러 개의 정규 분포 곡선을 추출하고, 개별 데이터가 어떤 정규 분포에 속하는지 결정하는 방식\n",
        "    - 모수 추정 : '개별 정규 분포의 평균과 분산, 각 데이터가 어떤 정규 분포에 해당되는지의 확률' 을 추정하는 것"
      ],
      "metadata": {
        "id": "9rHg5vAs021w"
      }
    },
    {
      "cell_type": "code",
      "execution_count": 1,
      "metadata": {
        "id": "aBPnyycU0wyi"
      },
      "outputs": [],
      "source": [
        "from sklearn.datasets import load_iris\n",
        "from sklearn.cluster import KMeans\n",
        "\n",
        "import matplotlib.pyplot as plt\n",
        "import numpy as np\n",
        "import pandas as pd\n",
        "\n",
        "iris = load_iris()\n",
        "feature_names = ['sepal_length', 'sepal_width', 'petal_length', 'petal_width']\n",
        "\n",
        "df = pd.DataFrame(data=iris.data, columns=feature_names)\n",
        "df['target'] = iris.target"
      ]
    },
    {
      "cell_type": "code",
      "source": [
        "from sklearn.mixture import GaussianMixture\n",
        "\n",
        "gmm = GaussianMixture(n_components=3, random_state=0).fit(iris.data)\n",
        "gmm_cluster_labels = gmm.predict(iris.data)\n",
        "\n",
        "df['gmm_cluster'] = gmm_cluster_labels\n",
        "df['target'] = iris.target\n",
        "\n",
        "iris_result = df.groupby(['target'])['gmm_cluster'].value_counts()\n",
        "iris_result"
      ],
      "metadata": {
        "colab": {
          "base_uri": "https://localhost:8080/"
        },
        "id": "oC_SHAFW4SBg",
        "outputId": "0db977fa-dc7e-4db6-f7cc-95be076172dc"
      },
      "execution_count": 4,
      "outputs": [
        {
          "output_type": "execute_result",
          "data": {
            "text/plain": [
              "target  gmm_cluster\n",
              "0       0              50\n",
              "1       2              45\n",
              "        1               5\n",
              "2       1              50\n",
              "Name: gmm_cluster, dtype: int64"
            ]
          },
          "metadata": {},
          "execution_count": 4
        }
      ]
    },
    {
      "cell_type": "markdown",
      "source": [
        "### (2) GMM과 K-평균의 비교\n",
        "\n",
        "- kmeans는 원형의 범위에서 군집화를 수행해서, 데이터 세트가 원형의 범위를 가질수록 군집화 효율 높아짐\n",
        "- 데이터가 원형의 범위가 아니라 길쭉한 타원형으로 늘어선 경우 kmeans는 군집화를 잘 수행하지 못함\n",
        "- GMM은 kmeans보다 유연하게 다양한 데이터 세트에 잘 적용될 수 있다는 장점이 있지만, 군집화 수행 시간이 오래 걸린다는 단점이 있다."
      ],
      "metadata": {
        "id": "oVwIjo-25ZBw"
      }
    }
  ]
}