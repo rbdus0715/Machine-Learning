{
  "nbformat": 4,
  "nbformat_minor": 0,
  "metadata": {
    "colab": {
      "provenance": [],
      "gpuType": "T4",
      "authorship_tag": "ABX9TyOQ4bavLvhO6/ahJuFByeRj",
      "include_colab_link": true
    },
    "kernelspec": {
      "name": "python3",
      "display_name": "Python 3"
    },
    "language_info": {
      "name": "python"
    },
    "accelerator": "GPU"
  },
  "cells": [
    {
      "cell_type": "markdown",
      "metadata": {
        "id": "view-in-github",
        "colab_type": "text"
      },
      "source": [
        "<a href=\"https://colab.research.google.com/github/rbdus0715/Machine-Learning/blob/main/study/cuda/01.intro-cuda/11.sum_array_with_timing.ipynb\" target=\"_parent\"><img src=\"https://colab.research.google.com/assets/colab-badge.svg\" alt=\"Open In Colab\"/></a>"
      ]
    },
    {
      "cell_type": "markdown",
      "source": [
        "### **(1) CPU와 GPU 작동 시간 측정하는 방법**\n",
        "```cpp\n",
        "clock start = clock()\n",
        "work loading...\n",
        "clock end = clock()\n",
        "\n",
        "difference = end - start\n",
        "time = (difference / clocks_per_sec)\n",
        "```"
      ],
      "metadata": {
        "id": "Z94WHCbJeF-P"
      }
    },
    {
      "cell_type": "code",
      "execution_count": null,
      "metadata": {
        "id": "KkKvOuzJdkQx"
      },
      "outputs": [],
      "source": [
        "!nvcc --version\n",
        "!pip install git+https://github.com/andreinechaev/nvcc4jupyter.git\n",
        "%load_ext nvcc_plugin"
      ]
    },
    {
      "cell_type": "markdown",
      "source": [
        "- GPU 연산에 걸리는 대부분의 시간은 메모리 transfering 연산이다."
      ],
      "metadata": {
        "id": "W7JF68WDiaBu"
      }
    },
    {
      "cell_type": "code",
      "source": [
        "%%cu\n",
        "#include \"cuda_runtime.h\"\n",
        "#include \"device_launch_parameters.h\"\n",
        "\n",
        "#include <stdio.h>\n",
        "\n",
        "// for random initialize\n",
        "#include <stdlib.h>\n",
        "#include <time.h>\n",
        "\n",
        "// for memset\n",
        "#include <cstring>\n",
        "\n",
        "__global__ void sum_array_gpu(int * a, int * b, int * c, int size)\n",
        "{\n",
        "    int gid = blockIdx.x * blockDim.x + threadIdx.x;\n",
        "\n",
        "    if(gid < size)\n",
        "    {\n",
        "        c[gid] = a[gid] + b[gid];\n",
        "    }\n",
        "}\n",
        "\n",
        "void sum_array_cpu(int * a, int * b, int * c, int size)\n",
        "{\n",
        "    for(int i=0; i<size; i++)\n",
        "    {\n",
        "        c[i] = a[i] + b[i];\n",
        "    }\n",
        "}\n",
        "\n",
        "void compare_arrays(int * a, int * b, int size)\n",
        "{\n",
        "    for (int i=0; i<size; i++)\n",
        "    {\n",
        "        if(a[i] != b[i])\n",
        "        {\n",
        "            printf(\"Array are different \\n\");\n",
        "            return;\n",
        "        }\n",
        "    }\n",
        "    printf(\"Arrays are same \\n\");\n",
        "}\n",
        "\n",
        "#define gpuErrchk(ans) {gpuAssert((ans), __FILE__, __LINE__);}\n",
        "inline void gpuAssert(cudaError_t code, const char *file, int line, bool abort = true)\n",
        "{\n",
        "    if(code != cudaSuccess)\n",
        "    {\n",
        "        fprintf(stderr, \"GPUassert: %s %s %d \\n\", cudaGetErrorString(code), file, line);\n",
        "        if(abort) exit(code);\n",
        "    }\n",
        "}\n",
        "\n",
        "int main() {\n",
        "    int size = 1 << 25;\n",
        "    int block_size = 1024;\n",
        "    cudaError error;\n",
        "\n",
        "    size_t NO_BYTES = size * sizeof(int);\n",
        "\n",
        "    // host pointers\n",
        "    // cpu_results cpu 계산 결과를 저장\n",
        "    int * h_a, * h_b, * gpu_results, * cpu_results;\n",
        "\n",
        "    // host에 메모리 할당\n",
        "    h_a = (int*)malloc(NO_BYTES);\n",
        "    h_b = (int*)malloc(NO_BYTES);\n",
        "    gpu_results = (int*)malloc(NO_BYTES);\n",
        "    cpu_results = (int*)malloc(NO_BYTES);\n",
        "\n",
        "    // host 포인터 initialize\n",
        "    time_t t;\n",
        "    srand((unsigned)time(&t));\n",
        "    for(int i=0; i<size; i++) {\n",
        "        h_a[i] = (int)(rand() & 0xFF);\n",
        "    }\n",
        "    for(int i=0; i<size; i++) {\n",
        "        h_b[i] = (int)(rand() & 0xFF);\n",
        "    }\n",
        "\n",
        "    ////////////////////////////////////////////////\n",
        "    // host calculation with 시간 측정\n",
        "    clock_t cpu_start, cpu_end;\n",
        "    cpu_start = clock();\n",
        "    sum_array_cpu(h_a, h_b, cpu_results, size);\n",
        "    cpu_end = clock();\n",
        "\n",
        "\n",
        "    memset(gpu_results, 0, NO_BYTES);\n",
        "\n",
        "    // device pointer\n",
        "    int * d_a, * d_b, * d_c;\n",
        "\n",
        "    // 쿠다 함수 적용할 때마다 error를 반환받는다\n",
        "    gpuErrchk(cudaMalloc((int **)&d_a, NO_BYTES));\n",
        "    gpuErrchk(cudaMalloc((int **)&d_b, NO_BYTES));\n",
        "    gpuErrchk(cudaMalloc((int **)&d_c, NO_BYTES));\n",
        "\n",
        "\n",
        "    ////////////////////////////////////////////////\n",
        "    // transfer 시간 체크\n",
        "    clock_t htod_start, htod_end;\n",
        "    htod_start = clock();\n",
        "    cudaMemcpy(d_a, h_a, NO_BYTES, cudaMemcpyHostToDevice);\n",
        "    cudaMemcpy(d_b, h_b, NO_BYTES, cudaMemcpyHostToDevice);\n",
        "    htod_end = clock();\n",
        "\n",
        "    // 커널 크기\n",
        "    dim3 block(block_size);\n",
        "    // size가 완벽하게 block.x로 나눠지지 않을 때는 보통 1 grid size를 추가해준다.\n",
        "    dim3 grid((size/block.x) + 1);\n",
        "\n",
        "\n",
        "    ////////////////////////////////////////////////\n",
        "    // 커널 시간 체크\n",
        "    clock_t gpu_start, gpu_end;\n",
        "    gpu_start = clock();\n",
        "    sum_array_gpu<<<grid, block>>>(d_a, d_b, d_c, size);\n",
        "    cudaDeviceSynchronize();\n",
        "    gpu_end = clock();\n",
        "\n",
        "    ////////////////////////////////////////////////\n",
        "    // transfer 시간 체크\n",
        "    clock_t dtoh_start, dtoh_end;\n",
        "    dtoh_start = clock();\n",
        "    cudaMemcpy(gpu_results, d_c, NO_BYTES, cudaMemcpyDeviceToHost);\n",
        "    dtoh_end = clock();\n",
        "\n",
        "    // array comparison\n",
        "    compare_arrays(gpu_results, cpu_results, size);\n",
        "\n",
        "\n",
        "    ////////////////////////////////////////////////\n",
        "    // CPU 합 측정 결과\n",
        "    printf(\"Sum array CPU execution time : %4.6f \\n\",\n",
        "           (double)((double)(cpu_end - cpu_start) / CLOCKS_PER_SEC));\n",
        "    // GPU 합 측정 결과\n",
        "    printf(\"Sum array GPU execution time : %4.6f \\n\",\n",
        "           (double)((double)(gpu_end - gpu_start) / CLOCKS_PER_SEC));\n",
        "    // h to d 측정 결과\n",
        "    printf(\"h to d memory transfer time : %4.6f \\n\",\n",
        "           (double)((double)(htod_end - htod_start) / CLOCKS_PER_SEC));\n",
        "    // d to h 측정 결과\n",
        "    printf(\"d to h memory transfer time : %4.6f \\n\",\n",
        "           (double)((double)(dtoh_end - dtoh_start) / CLOCKS_PER_SEC));\n",
        "    // GPU시간 총 측정 결과 (htod -> gpu 합 -> dtoh)\n",
        "    printf(\"total GPU time : %4.6f \\n\",\n",
        "           (double)((double)(dtoh_end - htod_start) / CLOCKS_PER_SEC));\n",
        "\n",
        "    cudaFree(d_a);\n",
        "    cudaFree(d_b);\n",
        "    cudaFree(d_c);\n",
        "\n",
        "    free(h_a);\n",
        "    free(h_b);\n",
        "    free(gpu_results);\n",
        "\n",
        "    cudaDeviceReset();\n",
        "    return 0;\n",
        "}"
      ],
      "metadata": {
        "colab": {
          "base_uri": "https://localhost:8080/"
        },
        "id": "k8lN7fzge0v_",
        "outputId": "2ff15ecd-51b4-4c0a-d1f5-bd773dcabe9a"
      },
      "execution_count": 3,
      "outputs": [
        {
          "output_type": "stream",
          "name": "stdout",
          "text": [
            "Arrays are same \n",
            "Sum array CPU execution time : 0.159459 \n",
            "Sum array GPU execution time : 0.001651 \n",
            "h to d memory transfer time : 0.056667 \n",
            "d to h memory transfer time : 0.030207 \n",
            "total GPU time : 0.088529 \n",
            "\n"
          ]
        }
      ]
    },
    {
      "cell_type": "markdown",
      "source": [
        "### **(2) 쿠다 어플리케이션의 성능**\n",
        "- Execution time\n",
        "- Power consumption\n",
        "- Floor space\n",
        "- Cost of hardware"
      ],
      "metadata": {
        "id": "oItzVQ4fiwP1"
      }
    }
  ]
}