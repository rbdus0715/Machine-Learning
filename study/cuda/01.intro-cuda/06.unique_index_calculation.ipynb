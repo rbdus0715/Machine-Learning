{
  "nbformat": 4,
  "nbformat_minor": 0,
  "metadata": {
    "colab": {
      "provenance": [],
      "gpuType": "T4",
      "authorship_tag": "ABX9TyNPPgcpYrjXk5H5eDtBK7Ll",
      "include_colab_link": true
    },
    "kernelspec": {
      "name": "python3",
      "display_name": "Python 3"
    },
    "language_info": {
      "name": "python"
    },
    "accelerator": "GPU"
  },
  "cells": [
    {
      "cell_type": "markdown",
      "metadata": {
        "id": "view-in-github",
        "colab_type": "text"
      },
      "source": [
        "<a href=\"https://colab.research.google.com/github/rbdus0715/Machine-Learning/blob/main/study/cuda/01.intro-cuda/06.unique_index_calculation.ipynb\" target=\"_parent\"><img src=\"https://colab.research.google.com/assets/colab-badge.svg\" alt=\"Open In Colab\"/></a>"
      ]
    },
    {
      "cell_type": "code",
      "execution_count": null,
      "metadata": {
        "id": "O8RyC1xiVu7_"
      },
      "outputs": [],
      "source": [
        "!nvcc --version\n",
        "!pip install git+https://github.com/andreinechaev/nvcc4jupyter.git\n",
        "%load_ext nvcc_plugin"
      ]
    },
    {
      "cell_type": "markdown",
      "source": [
        "### **(1) 인덱싱**\n",
        "[예시1]\n",
        "\n",
        "|23|9|4|53|65|12|1|33|\n",
        "|-|-|-|-|-|-|-|-|"
      ],
      "metadata": {
        "id": "FQ55fANsYeiN"
      }
    },
    {
      "cell_type": "code",
      "source": [
        "%%cu\n",
        "#include \"cuda_runtime.h\"\n",
        "#include \"device_launch_parameters.h\"\n",
        "#include <stdio.h>\n",
        "\n",
        "__global__ void unique_idx_calc_threadIdx(int * input) {\n",
        "    int tid = threadIdx.x;\n",
        "    printf(\"threadIdx : %d, value : %d\\n\", tid, input[tid]);\n",
        "}\n",
        "\n",
        "\n",
        "int main() {\n",
        "    int array_size = 8;\n",
        "    int array_byte_size = sizeof(int)*array_size;\n",
        "    int h_data[] = {23, 9, 4, 53, 65, 12, 1, 33};\n",
        "\n",
        "    for(int i=0; i<array_size; i++) {\n",
        "        printf(\"%d \", h_data[i]);\n",
        "    }\n",
        "    printf(\"\\n \\n\");\n",
        "\n",
        "    int * d_data;\n",
        "    cudaMalloc((void**)&d_data, array_byte_size);\n",
        "    cudaMemcpy(d_data, h_data, array_byte_size, cudaMemcpyHostToDevice);\n",
        "\n",
        "    dim3 block(8);\n",
        "    dim3 grid(1);\n",
        "\n",
        "    unique_idx_calc_threadIdx<<<grid, block>>>(d_data);\n",
        "    cudaDeviceSynchronize();\n",
        "    cudaDeviceReset();\n",
        "\n",
        "    return 0;\n",
        "}"
      ],
      "metadata": {
        "colab": {
          "base_uri": "https://localhost:8080/"
        },
        "id": "ngMN2YBfV9uS",
        "outputId": "84f4c373-c1ea-4c3c-f4bf-148ebf301180"
      },
      "execution_count": 5,
      "outputs": [
        {
          "output_type": "stream",
          "name": "stdout",
          "text": [
            "23 9 4 53 65 12 1 33 \n",
            " \n",
            "threadIdx : 0, value : 23\n",
            "threadIdx : 1, value : 9\n",
            "threadIdx : 2, value : 4\n",
            "threadIdx : 3, value : 53\n",
            "threadIdx : 4, value : 65\n",
            "threadIdx : 5, value : 12\n",
            "threadIdx : 6, value : 1\n",
            "threadIdx : 7, value : 33\n",
            "\n"
          ]
        }
      ]
    },
    {
      "cell_type": "markdown",
      "source": [
        "[예시2]\n",
        "\n",
        "|23|9|4|53|\n",
        "|-|-|-|-|\n",
        "\n",
        "</br>\n",
        "\n",
        "|65|12|1|33|\n",
        "|-|-|-|-|\n",
        "\n",
        "[결과]\n",
        "```\n",
        "23 9 4 53 65 12 1 33\n",
        "\n",
        "threadIdx : 0, value : 23\n",
        "threadIdx : 1, value : 9\n",
        "threadIdx : 2, value : 4\n",
        "threadIdx : 3, value : 53\n",
        "threadIdx : 0, value : 23\n",
        "threadIdx : 1, value : 9\n",
        "threadIdx : 2, value : 4\n",
        "threadIdx : 3, value : 53\n",
        "```\n",
        "위처럼 65, 12, 1, 33에 대해서는 접근하지 않았다.\n",
        "\n",
        "[결과에 대한 이유]</br>\n",
        "threadIdx.x가 \"23 9 4 53\", \"65 12 1 33\" 모두가 같았기 때문"
      ],
      "metadata": {
        "id": "IFUwAdM4ZO6a"
      }
    },
    {
      "cell_type": "code",
      "source": [
        "%%cu\n",
        "#include \"cuda_runtime.h\"\n",
        "#include \"device_launch_parameters.h\"\n",
        "#include <stdio.h>\n",
        "\n",
        "__global__ void unique_idx_calc_threadIdx(int * input) {\n",
        "    int tid = threadIdx.x;\n",
        "    printf(\"threadIdx : %d, value : %d\\n\", tid, input[tid]);\n",
        "}\n",
        "\n",
        "\n",
        "int main() {\n",
        "    int array_size = 8;\n",
        "    int array_byte_size = sizeof(int)*array_size;\n",
        "    int h_data[] = {23, 9, 4, 53, 65, 12, 1, 33};\n",
        "\n",
        "    for(int i=0; i<array_size; i++) {\n",
        "        printf(\"%d \", h_data[i]);\n",
        "    }\n",
        "    printf(\"\\n \\n\");\n",
        "\n",
        "    int * d_data;\n",
        "    cudaMalloc((void**)&d_data, array_byte_size);\n",
        "    cudaMemcpy(d_data, h_data, array_byte_size, cudaMemcpyHostToDevice);\n",
        "\n",
        "    dim3 block(4);\n",
        "    dim3 grid(2);\n",
        "\n",
        "    unique_idx_calc_threadIdx<<<grid, block>>>(d_data);\n",
        "    cudaDeviceSynchronize();\n",
        "    cudaDeviceReset();\n",
        "\n",
        "    return 0;\n",
        "}"
      ],
      "metadata": {
        "colab": {
          "base_uri": "https://localhost:8080/"
        },
        "id": "Ku2hwK42WHO0",
        "outputId": "98ebcf49-4e40-47d8-ef5d-be5daedd80d2"
      },
      "execution_count": 6,
      "outputs": [
        {
          "output_type": "stream",
          "name": "stdout",
          "text": [
            "23 9 4 53 65 12 1 33 \n",
            " \n",
            "threadIdx : 0, value : 23\n",
            "threadIdx : 1, value : 9\n",
            "threadIdx : 2, value : 4\n",
            "threadIdx : 3, value : 53\n",
            "threadIdx : 0, value : 23\n",
            "threadIdx : 1, value : 9\n",
            "threadIdx : 2, value : 4\n",
            "threadIdx : 3, value : 53\n",
            "\n"
          ]
        }
      ]
    },
    {
      "cell_type": "markdown",
      "source": [
        "### **(2) global unit id**\n",
        "- gid = tid + offset\n",
        "- gid = tid + blockIdx.x * blockDim.x"
      ],
      "metadata": {
        "id": "4oQdql0hcNUP"
      }
    },
    {
      "cell_type": "code",
      "source": [
        "%%cu\n",
        "#include \"cuda_runtime.h\"\n",
        "#include \"device_launch_parameters.h\"\n",
        "#include <stdio.h>\n",
        "\n",
        "__global__ void unique_gid_calculation(int * input) {\n",
        "    int tid = threadIdx.x;\n",
        "    int offset = blockIdx.x * blockDim.x;\n",
        "    int gid = tid + offset;\n",
        "    printf(\"gid : %d, value : %d \\n\", gid, input[gid]);\n",
        "}\n",
        "\n",
        "\n",
        "int main() {\n",
        "    int array_size = 8;\n",
        "    int array_byte_size = sizeof(int)*array_size;\n",
        "    int h_data[] = {23, 9, 4, 53, 65, 12, 1, 33};\n",
        "\n",
        "    for(int i=0; i<array_size; i++) {\n",
        "        printf(\"%d \", h_data[i]);\n",
        "    }\n",
        "    printf(\"\\n \\n\");\n",
        "\n",
        "    int * d_data;\n",
        "    cudaMalloc((void**)&d_data, array_byte_size);\n",
        "    cudaMemcpy(d_data, h_data, array_byte_size, cudaMemcpyHostToDevice);\n",
        "\n",
        "    dim3 block(4);\n",
        "    dim3 grid(2);\n",
        "\n",
        "    unique_gid_calculation<<<grid, block>>>(d_data);\n",
        "    cudaDeviceSynchronize();\n",
        "    cudaDeviceReset();\n",
        "\n",
        "    return 0;\n",
        "}"
      ],
      "metadata": {
        "colab": {
          "base_uri": "https://localhost:8080/"
        },
        "id": "Y5sj4oGoZLvx",
        "outputId": "dec3dab7-ee1f-40db-abc2-6bb1a361a7a9"
      },
      "execution_count": 8,
      "outputs": [
        {
          "output_type": "stream",
          "name": "stdout",
          "text": [
            "23 9 4 53 65 12 1 33 \n",
            " \n",
            "gid : 4, value : 65 \n",
            "gid : 5, value : 12 \n",
            "gid : 6, value : 1 \n",
            "gid : 7, value : 33 \n",
            "gid : 0, value : 23 \n",
            "gid : 1, value : 9 \n",
            "gid : 2, value : 4 \n",
            "gid : 3, value : 53 \n",
            "\n"
          ]
        }
      ]
    }
  ]
}