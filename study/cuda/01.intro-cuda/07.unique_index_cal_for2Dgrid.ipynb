{
  "nbformat": 4,
  "nbformat_minor": 0,
  "metadata": {
    "colab": {
      "provenance": [],
      "gpuType": "T4",
      "authorship_tag": "ABX9TyN0JsskSyipKbbyeStsFOd7",
      "include_colab_link": true
    },
    "kernelspec": {
      "name": "python3",
      "display_name": "Python 3"
    },
    "language_info": {
      "name": "python"
    },
    "accelerator": "GPU"
  },
  "cells": [
    {
      "cell_type": "markdown",
      "metadata": {
        "id": "view-in-github",
        "colab_type": "text"
      },
      "source": [
        "<a href=\"https://colab.research.google.com/github/rbdus0715/Machine-Learning/blob/main/study/cuda/01.intro-cuda/07.unique_index_cal_for2Dgrid.ipynb\" target=\"_parent\"><img src=\"https://colab.research.google.com/assets/colab-badge.svg\" alt=\"Open In Colab\"/></a>"
      ]
    },
    {
      "cell_type": "code",
      "execution_count": null,
      "metadata": {
        "id": "FsZ2afbKDw6n"
      },
      "outputs": [],
      "source": [
        "!nvcc --version\n",
        "!pip install git+https://github.com/andreinechaev/nvcc4jupyter.git\n",
        "%load_ext nvcc_plugin"
      ]
    },
    {
      "cell_type": "markdown",
      "source": [
        "### **(1) 2차원 그리드에서 잘못된 인덱싱**\n",
        "\n",
        "```python\n",
        "# X 차원만 생각한 인덱싱\n",
        "[\n",
        "    [[A, B, C, D], [E, F, G, H]],\n",
        "    # 0, 1, 2, 3,   4, 5, 6, 7\n",
        "    [[I, J, K, L], [M, N, O, P]]\n",
        "    # 0, 1, 2, 3,   4, 5, 6, 7\n",
        "\n",
        "]\n",
        "```\n",
        "\n",
        "- 앞에서 배운 index = blockIdx.x * blockDim.x + threadIdx.x 만 사용하면 안된다. Y 차원도 생각해야한다."
      ],
      "metadata": {
        "id": "8ljJixOsGRXy"
      }
    },
    {
      "cell_type": "code",
      "source": [
        "%%cu\n",
        "#include \"cuda_runtime.h\"\n",
        "#include \"device_launch_parameters.h\"\n",
        "#include <stdio.h>\n",
        "\n",
        "__global__ void unique_gid_calculation_2d(int * input) {\n",
        "    int tid = threadIdx.x;\n",
        "    int offset = blockIdx.x * blockDim.x;\n",
        "    int gid = tid + offset;\n",
        "    printf(\"blockIdx.x : %d, blockIdx.y : %d, threadIdx.x : %d, gid : %d - data : %d \\n\",\n",
        "           blockIdx.x, blockIdx.y, tid, gid, input[gid]);\n",
        "}\n",
        "\n",
        "\n",
        "int main() {\n",
        "    int array_size = 16;\n",
        "    int array_byte_size = sizeof(int)*array_size;\n",
        "    int h_data[] = {23, 9, 4, 53, 65, 12, 1, 33, 22, 43, 56, 4, 76, 81, 94, 32};\n",
        "\n",
        "    int * d_data;\n",
        "    cudaMalloc((void**)&d_data, array_byte_size);\n",
        "    cudaMemcpy(d_data, h_data, array_byte_size, cudaMemcpyHostToDevice);\n",
        "\n",
        "    dim3 block(4);\n",
        "    dim3 grid(2, 2);\n",
        "\n",
        "    unique_gid_calculation_2d<<<grid, block>>>(d_data);\n",
        "    cudaDeviceSynchronize();\n",
        "    cudaDeviceReset();\n",
        "\n",
        "    return 0;\n",
        "}"
      ],
      "metadata": {
        "colab": {
          "base_uri": "https://localhost:8080/"
        },
        "id": "tPTeSsdUELBW",
        "outputId": "1a055689-24c7-4b5d-8e83-8018a374f666"
      },
      "execution_count": 2,
      "outputs": [
        {
          "output_type": "stream",
          "name": "stdout",
          "text": [
            "blockIdx.x : 1, blockIdx.y : 0, threadIdx.x : 0, gid : 4 - data : 65 \n",
            "blockIdx.x : 1, blockIdx.y : 0, threadIdx.x : 1, gid : 5 - data : 12 \n",
            "blockIdx.x : 1, blockIdx.y : 0, threadIdx.x : 2, gid : 6 - data : 1 \n",
            "blockIdx.x : 1, blockIdx.y : 0, threadIdx.x : 3, gid : 7 - data : 33 \n",
            "blockIdx.x : 1, blockIdx.y : 1, threadIdx.x : 0, gid : 4 - data : 65 \n",
            "blockIdx.x : 1, blockIdx.y : 1, threadIdx.x : 1, gid : 5 - data : 12 \n",
            "blockIdx.x : 1, blockIdx.y : 1, threadIdx.x : 2, gid : 6 - data : 1 \n",
            "blockIdx.x : 1, blockIdx.y : 1, threadIdx.x : 3, gid : 7 - data : 33 \n",
            "blockIdx.x : 0, blockIdx.y : 1, threadIdx.x : 0, gid : 0 - data : 23 \n",
            "blockIdx.x : 0, blockIdx.y : 1, threadIdx.x : 1, gid : 1 - data : 9 \n",
            "blockIdx.x : 0, blockIdx.y : 1, threadIdx.x : 2, gid : 2 - data : 4 \n",
            "blockIdx.x : 0, blockIdx.y : 1, threadIdx.x : 3, gid : 3 - data : 53 \n",
            "blockIdx.x : 0, blockIdx.y : 0, threadIdx.x : 0, gid : 0 - data : 23 \n",
            "blockIdx.x : 0, blockIdx.y : 0, threadIdx.x : 1, gid : 1 - data : 9 \n",
            "blockIdx.x : 0, blockIdx.y : 0, threadIdx.x : 2, gid : 2 - data : 4 \n",
            "blockIdx.x : 0, blockIdx.y : 0, threadIdx.x : 3, gid : 3 - data : 53 \n",
            "\n"
          ]
        }
      ]
    },
    {
      "cell_type": "markdown",
      "source": [
        "### **(2) (2D grid에서 스레드 블럭이 1차원일 때) grid의 Y차원까지 고려한 인덱싱**\n",
        "\n",
        "- index = row offset + block offset + tid\n",
        "- index = 한 스레드 블럭의 row에 길이만큼의 스레드 개수 * blockIdx.y + 스레드 블럭에 담겨있는 스레드 개수 * blockIdx.x + threadIdx.x\n",
        "    - 한 스레드 블럭의 row에 길이만큼의 스레드 개수 = gridDim.x * blockDim.x\n",
        "    - 스레드 블럭에 담겨있는 스레드 개수 = blockDim.x\n",
        "\n",
        "**[정리]**</br>\n",
        "$gid = (gridDim.x \\times blockDim.x \\times blockIdx.y) + (blockIdx.X \\times blockDim.x) + threadIdx.x$\n",
        "\n",
        "\n",
        "```python\n",
        "# 스레드 블럭이 1차원일 경우에\n",
        "# X 차원, Y차원을 모두 고려한 인덱싱\n",
        "[\n",
        "    [[A, B, C, D], [E, F, G, H]],\n",
        "    # 0, 1, 2, 3,   4, 5, 6, 7\n",
        "    [[I, J, K, L], [M, N, O, P]]\n",
        "    # 8, 9, 10, 11 12, 13, 14, 15\n",
        "\n",
        "]\n",
        "```"
      ],
      "metadata": {
        "id": "j52xJmy6k-Mm"
      }
    },
    {
      "cell_type": "code",
      "source": [
        "%%cu\n",
        "#include \"cuda_runtime.h\"\n",
        "#include \"device_launch_parameters.h\"\n",
        "#include <stdio.h>\n",
        "\n",
        "__global__ void unique_gid_calculation_2d(int * input) {\n",
        "    int tid = threadIdx.x;\n",
        "    int block_offset = blockIdx.x * blockDim.x;\n",
        "    int row_offset = gridDim.x * blockDim.x * blockIdx.y;\n",
        "\n",
        "    int gid = tid + block_offset + row_offset;\n",
        "    printf(\"blockIdx.x : %d, blockIdx.y : %d, threadIdx.x : %d, gid : %d - data : %d \\n\",\n",
        "           blockIdx.x, blockIdx.y, tid, gid, input[gid]);\n",
        "}\n",
        "\n",
        "\n",
        "int main() {\n",
        "    int array_size = 16;\n",
        "    int array_byte_size = sizeof(int)*array_size;\n",
        "    int h_data[] = {23, 9, 4, 53, 65, 12, 1, 33, 22, 43, 56, 4, 76, 81, 94, 32};\n",
        "\n",
        "    int * d_data;\n",
        "    cudaMalloc((void**)&d_data, array_byte_size);\n",
        "    cudaMemcpy(d_data, h_data, array_byte_size, cudaMemcpyHostToDevice);\n",
        "\n",
        "    dim3 block(4);\n",
        "    dim3 grid(2, 2);\n",
        "\n",
        "    unique_gid_calculation_2d<<<grid, block>>>(d_data);\n",
        "    cudaDeviceSynchronize();\n",
        "    cudaDeviceReset();\n",
        "\n",
        "    return 0;\n",
        "}"
      ],
      "metadata": {
        "id": "xQFqIUCEF2h2",
        "colab": {
          "base_uri": "https://localhost:8080/"
        },
        "outputId": "ea6f4f24-6df2-45d6-85bb-db483b169164"
      },
      "execution_count": 3,
      "outputs": [
        {
          "output_type": "stream",
          "name": "stdout",
          "text": [
            "blockIdx.x : 1, blockIdx.y : 0, threadIdx.x : 0, gid : 4 - data : 65 \n",
            "blockIdx.x : 1, blockIdx.y : 0, threadIdx.x : 1, gid : 5 - data : 12 \n",
            "blockIdx.x : 1, blockIdx.y : 0, threadIdx.x : 2, gid : 6 - data : 1 \n",
            "blockIdx.x : 1, blockIdx.y : 0, threadIdx.x : 3, gid : 7 - data : 33 \n",
            "blockIdx.x : 1, blockIdx.y : 1, threadIdx.x : 0, gid : 12 - data : 76 \n",
            "blockIdx.x : 1, blockIdx.y : 1, threadIdx.x : 1, gid : 13 - data : 81 \n",
            "blockIdx.x : 1, blockIdx.y : 1, threadIdx.x : 2, gid : 14 - data : 94 \n",
            "blockIdx.x : 1, blockIdx.y : 1, threadIdx.x : 3, gid : 15 - data : 32 \n",
            "blockIdx.x : 0, blockIdx.y : 1, threadIdx.x : 0, gid : 8 - data : 22 \n",
            "blockIdx.x : 0, blockIdx.y : 1, threadIdx.x : 1, gid : 9 - data : 43 \n",
            "blockIdx.x : 0, blockIdx.y : 1, threadIdx.x : 2, gid : 10 - data : 56 \n",
            "blockIdx.x : 0, blockIdx.y : 1, threadIdx.x : 3, gid : 11 - data : 4 \n",
            "blockIdx.x : 0, blockIdx.y : 0, threadIdx.x : 0, gid : 0 - data : 23 \n",
            "blockIdx.x : 0, blockIdx.y : 0, threadIdx.x : 1, gid : 1 - data : 9 \n",
            "blockIdx.x : 0, blockIdx.y : 0, threadIdx.x : 2, gid : 2 - data : 4 \n",
            "blockIdx.x : 0, blockIdx.y : 0, threadIdx.x : 3, gid : 3 - data : 53 \n",
            "\n"
          ]
        }
      ]
    },
    {
      "cell_type": "markdown",
      "source": [
        "### **(3) (2D grid에서 스레드 블럭이 2차원일 때) 인덱싱**\n",
        "\n",
        "```python\n",
        "# 총 16개의 스레드\n",
        "# dim3 grid(2, 2);\n",
        "# dim3 block(2, 2);\n",
        "[\n",
        "    [\n",
        "        [[0, 1], [2, 3]], [[4, 5], [6, 7]]\n",
        "    ],\n",
        "    [\n",
        "        [[8, 9], [10, 11]], [[12, 13], [14, 15]]\n",
        "    ]\n",
        "]\n",
        "```\n",
        "\n",
        "tid $= threadIdx.y * blockDim.x + threadIdx.x$\n",
        "\n",
        "block_offset $= (blockDim.x * blockDim.y) * blockIdx.x$\n",
        "\n",
        "row_offset $= (blockDim.x * blockDim.y * gridDim.x) * blockIdx.y$"
      ],
      "metadata": {
        "id": "FKcB9Oxu2gJq"
      }
    },
    {
      "cell_type": "code",
      "source": [
        "%%cu\n",
        "#include \"cuda_runtime.h\"\n",
        "#include \"device_launch_parameters.h\"\n",
        "#include <stdio.h>\n",
        "\n",
        "__global__ void unique_gid_calculation_2d_2d(int * input) {\n",
        "    int tid = blockDim.x * threadIdx.y + threadIdx.x;\n",
        "    int block_offset = blockDim.x * blockDim.y * blockIdx.x;\n",
        "    int row_offset = (blockDim.x * blockDim.y * gridDim.x) * blockIdx.y;\n",
        "\n",
        "    int gid = tid + block_offset + row_offset;\n",
        "    printf(\"blockIdx.x : %d, blockIdx.y : %d, threadIdx.x : %d, gid : %d - data : %d \\n\",\n",
        "           blockIdx.x, blockIdx.y, tid, gid, input[gid]);\n",
        "}\n",
        "\n",
        "\n",
        "int main() {\n",
        "    int array_size = 16;\n",
        "    int array_byte_size = sizeof(int)*array_size;\n",
        "    int h_data[] = {23, 9, 4, 53, 65, 12, 1, 33, 22, 43, 56, 4, 76, 81, 94, 32};\n",
        "\n",
        "    int * d_data;\n",
        "    cudaMalloc((void**)&d_data, array_byte_size);\n",
        "    cudaMemcpy(d_data, h_data, array_byte_size, cudaMemcpyHostToDevice);\n",
        "\n",
        "    dim3 block(2, 2);\n",
        "    dim3 grid(2, 2);\n",
        "\n",
        "    unique_gid_calculation_2d_2d<<<grid, block>>>(d_data);\n",
        "    cudaDeviceSynchronize();\n",
        "    cudaDeviceReset();\n",
        "\n",
        "    return 0;\n",
        "}"
      ],
      "metadata": {
        "id": "yORYFfivog5v",
        "colab": {
          "base_uri": "https://localhost:8080/"
        },
        "outputId": "36ab0cf0-ff9c-490c-9f48-48645e4d1b74"
      },
      "execution_count": 10,
      "outputs": [
        {
          "output_type": "stream",
          "name": "stdout",
          "text": [
            "blockIdx.x : 1, blockIdx.y : 0, threadIdx.x : 0, gid : 4 - data : 65 \n",
            "blockIdx.x : 1, blockIdx.y : 0, threadIdx.x : 1, gid : 5 - data : 12 \n",
            "blockIdx.x : 1, blockIdx.y : 0, threadIdx.x : 2, gid : 6 - data : 1 \n",
            "blockIdx.x : 1, blockIdx.y : 0, threadIdx.x : 3, gid : 7 - data : 33 \n",
            "blockIdx.x : 1, blockIdx.y : 1, threadIdx.x : 0, gid : 12 - data : 76 \n",
            "blockIdx.x : 1, blockIdx.y : 1, threadIdx.x : 1, gid : 13 - data : 81 \n",
            "blockIdx.x : 1, blockIdx.y : 1, threadIdx.x : 2, gid : 14 - data : 94 \n",
            "blockIdx.x : 1, blockIdx.y : 1, threadIdx.x : 3, gid : 15 - data : 32 \n",
            "blockIdx.x : 0, blockIdx.y : 1, threadIdx.x : 0, gid : 8 - data : 22 \n",
            "blockIdx.x : 0, blockIdx.y : 1, threadIdx.x : 1, gid : 9 - data : 43 \n",
            "blockIdx.x : 0, blockIdx.y : 1, threadIdx.x : 2, gid : 10 - data : 56 \n",
            "blockIdx.x : 0, blockIdx.y : 1, threadIdx.x : 3, gid : 11 - data : 4 \n",
            "blockIdx.x : 0, blockIdx.y : 0, threadIdx.x : 0, gid : 0 - data : 23 \n",
            "blockIdx.x : 0, blockIdx.y : 0, threadIdx.x : 1, gid : 1 - data : 9 \n",
            "blockIdx.x : 0, blockIdx.y : 0, threadIdx.x : 2, gid : 2 - data : 4 \n",
            "blockIdx.x : 0, blockIdx.y : 0, threadIdx.x : 3, gid : 3 - data : 53 \n",
            "\n"
          ]
        }
      ]
    }
  ]
}