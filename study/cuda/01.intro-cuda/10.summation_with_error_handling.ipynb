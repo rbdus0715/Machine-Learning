{
  "nbformat": 4,
  "nbformat_minor": 0,
  "metadata": {
    "colab": {
      "provenance": [],
      "gpuType": "T4",
      "authorship_tag": "ABX9TyMFmAo/vjktQMn6NRs39CbA",
      "include_colab_link": true
    },
    "kernelspec": {
      "name": "python3",
      "display_name": "Python 3"
    },
    "language_info": {
      "name": "python"
    },
    "accelerator": "GPU"
  },
  "cells": [
    {
      "cell_type": "markdown",
      "metadata": {
        "id": "view-in-github",
        "colab_type": "text"
      },
      "source": [
        "<a href=\"https://colab.research.google.com/github/rbdus0715/Machine-Learning/blob/main/study/cuda/01.intro-cuda/10.summation_with_error_handling.ipynb\" target=\"_parent\"><img src=\"https://colab.research.google.com/assets/colab-badge.svg\" alt=\"Open In Colab\"/></a>"
      ]
    },
    {
      "cell_type": "markdown",
      "source": [
        "### **(1) 에러 핸들링**\n",
        "\n",
        "- 컴파일 타임 에러 : 문법이 틀려 발생한 에러\n",
        "- 런타임 에러 : 프로그램 실행 중 발생한 에러"
      ],
      "metadata": {
        "id": "HEgxZH-4m8wl"
      }
    },
    {
      "cell_type": "markdown",
      "source": [
        "### **(2) 쿠다 에러 핸들링**\n",
        "- 커널 런치를 제외한 거의 모든 CUDA 함수는 cudaError.cudaError를 반환함\n",
        "```cpp\n",
        "cudaError cuda_function(....)\n",
        "```\n",
        "- cudaError는 enum형\n",
        "    - cudaSuccess : 성공\n",
        "    - 실패했을 경우 : cudaError를 cudaGetErrorString 함수로 전달\n",
        "- 이러한 런타임 핸들링이 쿠다 프로그래밍에 있어서 굉장히 중요함\n",
        "    - 모든 함수마다 에러 체킹을 필수적으로 하기\n",
        "\n",
        "- 에러 체킹 방법 1\n",
        "```cpp\n",
        "error = cudaMalloc((int **)&d_a, NO_BYTES);\n",
        "if(error != cudaSuccess) {\n",
        "    fprintf(stderr, \"%s \\n\", cudaGetErrorString(error));\n",
        "}\n",
        "```\n",
        "- 에러 체킹 방법 2\n",
        "```cpp\n",
        "// 에러 체크 함수\n",
        "#define gpuErrchk(ans) {gpuAssert((ans), __FILE__, __LINE);}\n",
        "inline void gpuAssert(cudaError_t code, const char *file, int line, bool abort = true)\n",
        "{\n",
        "    if(code != cudaSuccess)\n",
        "    {\n",
        "        fprintf(stderr, \"GPUassert: %s %s %d \\n\", cudaGetErrorString(code), file, line);\n",
        "        if(abort) exit(code);\n",
        "    }\n",
        "}\n",
        "// 사용 예시\n",
        "gpuErrchk(cudaMalloc((int**)&d_a, NO_BYTE);\n",
        "```\n"
      ],
      "metadata": {
        "id": "H_gNo8GCnmuA"
      }
    },
    {
      "cell_type": "code",
      "execution_count": null,
      "metadata": {
        "id": "mLIeHfdImzjP"
      },
      "outputs": [],
      "source": [
        "!nvcc --version\n",
        "!pip install git+https://github.com/andreinechaev/nvcc4jupyter.git\n",
        "%load_ext nvcc_plugin"
      ]
    },
    {
      "cell_type": "code",
      "source": [
        "%%cu\n",
        "#include \"cuda_runtime.h\"\n",
        "#include \"device_launch_parameters.h\"\n",
        "\n",
        "#include <stdio.h>\n",
        "\n",
        "// for random initialize\n",
        "#include <stdlib.h>\n",
        "#include <time.h>\n",
        "\n",
        "// for memset\n",
        "#include <cstring>\n",
        "\n",
        "__global__ void sum_array_gpu(int * a, int * b, int * c, int size)\n",
        "{\n",
        "    int gid = blockIdx.x * blockDim.x + threadIdx.x;\n",
        "\n",
        "    if(gid < size)\n",
        "    {\n",
        "        c[gid] = a[gid] + b[gid];\n",
        "    }\n",
        "}\n",
        "\n",
        "void sum_array_cpu(int * a, int * b, int * c, int size)\n",
        "{\n",
        "    for(int i=0; i<size; i++)\n",
        "    {\n",
        "        c[i] = a[i] + b[i];\n",
        "    }\n",
        "}\n",
        "\n",
        "void compare_arrays(int * a, int * b, int size)\n",
        "{\n",
        "    for (int i=0; i<size; i++)\n",
        "    {\n",
        "        if(a[i] != b[i])\n",
        "        {\n",
        "            printf(\"Array are different \\n\");\n",
        "            return;\n",
        "        }\n",
        "    }\n",
        "    printf(\"Arrays are same \\n\");\n",
        "}\n",
        "\n",
        "#define gpuErrchk(ans) {gpuAssert((ans), __FILE__, __LINE__);}\n",
        "inline void gpuAssert(cudaError_t code, const char *file, int line, bool abort = true)\n",
        "{\n",
        "    if(code != cudaSuccess)\n",
        "    {\n",
        "        fprintf(stderr, \"GPUassert: %s %s %d \\n\", cudaGetErrorString(code), file, line);\n",
        "        if(abort) exit(code);\n",
        "    }\n",
        "}\n",
        "\n",
        "int main() {\n",
        "    int size = 1 << 25;\n",
        "    int block_size = 1024;\n",
        "    cudaError error;\n",
        "\n",
        "    size_t NO_BYTES = size * sizeof(int);\n",
        "\n",
        "    // host pointers\n",
        "    // cpu_results cpu 계산 결과를 저장\n",
        "    int * h_a, * h_b, * gpu_results, * cpu_results;\n",
        "\n",
        "    // host에 메모리 할당\n",
        "    h_a = (int*)malloc(NO_BYTES);\n",
        "    h_b = (int*)malloc(NO_BYTES);\n",
        "    gpu_results = (int*)malloc(NO_BYTES);\n",
        "    cpu_results = (int*)malloc(NO_BYTES);\n",
        "\n",
        "    // host 포인터 initialize\n",
        "    time_t t;\n",
        "    srand((unsigned)time(&t));\n",
        "    for(int i=0; i<size; i++) {\n",
        "        h_a[i] = (int)(rand() & 0xFF);\n",
        "    }\n",
        "    for(int i=0; i<size; i++) {\n",
        "        h_b[i] = (int)(rand() & 0xFF);\n",
        "    }\n",
        "\n",
        "    // host calculation\n",
        "    sum_array_cpu(h_a, h_b, cpu_results, size);\n",
        "\n",
        "    memset(gpu_results, 0, NO_BYTES);\n",
        "\n",
        "    // device pointer\n",
        "    int * d_a, * d_b, * d_c;\n",
        "\n",
        "    /////////////////////////////////////////////////////\n",
        "    // error check (1)\n",
        "    // 쿠다 함수 적용할 때마다 error를 반환받는다\n",
        "    gpuErrchk(cudaMalloc((int **)&d_a, NO_BYTES));\n",
        "    gpuErrchk(cudaMalloc((int **)&d_b, NO_BYTES));\n",
        "    gpuErrchk(cudaMalloc((int **)&d_c, NO_BYTES));\n",
        "\n",
        "    // transfer\n",
        "    cudaMemcpy(d_a, h_a, NO_BYTES, cudaMemcpyHostToDevice);\n",
        "    cudaMemcpy(d_b, h_b, NO_BYTES, cudaMemcpyHostToDevice);\n",
        "\n",
        "    // 커널 크기\n",
        "    dim3 block(block_size);\n",
        "    // size가 완벽하게 block.x로 나눠지지 않을 때는 보통 1 grid size를 추가해준다.\n",
        "    dim3 grid((size/block.x) + 1);\n",
        "\n",
        "    /////////////////////////////////////////////////////\n",
        "    /// 커널 런치는 아무것도 반환하지 않는다 (cudaError도 반환하지 않는다)\n",
        "    sum_array_gpu<<<grid, block>>>(d_a, d_b, d_c, size);\n",
        "    cudaDeviceSynchronize();\n",
        "\n",
        "    cudaMemcpy(gpu_results, d_c, NO_BYTES, cudaMemcpyDeviceToHost);\n",
        "\n",
        "    // array comparison\n",
        "    compare_arrays(gpu_results, cpu_results, size);\n",
        "\n",
        "    cudaFree(d_a);\n",
        "    cudaFree(d_b);\n",
        "    cudaFree(d_c);\n",
        "\n",
        "    free(h_a);\n",
        "    free(h_b);\n",
        "    free(gpu_results);\n",
        "\n",
        "    cudaDeviceReset();\n",
        "    return 0;\n",
        "}"
      ],
      "metadata": {
        "colab": {
          "base_uri": "https://localhost:8080/"
        },
        "id": "B1o3GBn9ZMf0",
        "outputId": "c328b1c5-a107-4d6a-9240-4ebb82a71dec"
      },
      "execution_count": 3,
      "outputs": [
        {
          "output_type": "stream",
          "name": "stdout",
          "text": [
            "Arrays are same \n",
            "\n"
          ]
        }
      ]
    }
  ]
}