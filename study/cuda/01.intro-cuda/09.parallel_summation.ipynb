{
  "nbformat": 4,
  "nbformat_minor": 0,
  "metadata": {
    "colab": {
      "provenance": [],
      "gpuType": "T4",
      "authorship_tag": "ABX9TyMwrAHwjzyjxSGKXbNRyrCj",
      "include_colab_link": true
    },
    "kernelspec": {
      "name": "python3",
      "display_name": "Python 3"
    },
    "language_info": {
      "name": "python"
    },
    "accelerator": "GPU"
  },
  "cells": [
    {
      "cell_type": "markdown",
      "metadata": {
        "id": "view-in-github",
        "colab_type": "text"
      },
      "source": [
        "<a href=\"https://colab.research.google.com/github/rbdus0715/Machine-Learning/blob/main/study/cuda/01.intro-cuda/09.parallel_summation.ipynb\" target=\"_parent\"><img src=\"https://colab.research.google.com/assets/colab-badge.svg\" alt=\"Open In Colab\"/></a>"
      ]
    },
    {
      "cell_type": "code",
      "execution_count": null,
      "metadata": {
        "id": "-rUZPUmNa-yY"
      },
      "outputs": [],
      "source": [
        "!nvcc --version\n",
        "!pip install git+https://github.com/andreinechaev/nvcc4jupyter.git\n",
        "%load_ext nvcc_plugin"
      ]
    },
    {
      "cell_type": "code",
      "source": [
        "%%cu\n",
        "#include \"cuda_runtime.h\"\n",
        "#include \"device_launch_parameters.h\"\n",
        "\n",
        "#include <stdio.h>\n",
        "\n",
        "// for random initialize\n",
        "#include <stdlib.h>\n",
        "#include <time.h>\n",
        "\n",
        "// for memset\n",
        "#include <cstring>\n",
        "\n",
        "__global__ void sum_array_gpu(int * a, int * b, int * c, int size)\n",
        "{\n",
        "    int gid = blockIdx.x * blockDim.x + threadIdx.x;\n",
        "\n",
        "    if(gid < size)\n",
        "    {\n",
        "        c[gid] = a[gid] + b[gid];\n",
        "    }\n",
        "}\n",
        "\n",
        "void sum_array_cpu(int * a, int * b, int * c, int size)\n",
        "{\n",
        "    for(int i=0; i<size; i++)\n",
        "    {\n",
        "        c[i] = a[i] + b[i];\n",
        "    }\n",
        "}\n",
        "\n",
        "void compare_arrays(int * a, int * b, int size)\n",
        "{\n",
        "    for (int i=0; i<size; i++)\n",
        "    {\n",
        "        if(a[i] != b[i])\n",
        "        {\n",
        "            printf(\"Array are different \\n\");\n",
        "            return;\n",
        "        }\n",
        "    }\n",
        "    printf(\"Arrays are same \\n\");\n",
        "}\n",
        "\n",
        "int main() {\n",
        "    int size = 10000;\n",
        "    int block_size = 128;\n",
        "\n",
        "    int NO_BYTES = size * sizeof(int);\n",
        "\n",
        "    // host pointers\n",
        "    // h_c는 cpu 계산 결과를 저장\n",
        "    int * h_a, * h_b, * gpu_results, * h_c;\n",
        "\n",
        "    // host에 메모리 할당\n",
        "    h_a = (int*)malloc(NO_BYTES);\n",
        "    h_b = (int*)malloc(NO_BYTES);\n",
        "    gpu_results = (int*)malloc(NO_BYTES);\n",
        "    h_c = (int*)malloc(NO_BYTES);\n",
        "\n",
        "    // host 포인터 initialize\n",
        "    time_t t;\n",
        "    srand((unsigned)time(&t));\n",
        "    for(int i=0; i<size; i++) {\n",
        "        h_a[i] = (int)(rand() & 0xFF);\n",
        "    }\n",
        "    for(int i=0; i<size; i++) {\n",
        "        h_b[i] = (int)(rand() & 0xFF);\n",
        "    }\n",
        "\n",
        "    // host calculation\n",
        "    sum_array_cpu(h_a, h_b, h_c, size);\n",
        "\n",
        "    memset(gpu_results, 0, NO_BYTES);\n",
        "\n",
        "    // device pointer\n",
        "    int * d_a, * d_b, * d_c;\n",
        "    cudaMalloc((int **)&d_a, NO_BYTES);\n",
        "    cudaMalloc((int **)&d_b, NO_BYTES);\n",
        "    cudaMalloc((int **)&d_c, NO_BYTES);\n",
        "\n",
        "    // transfer\n",
        "    cudaMemcpy(d_a, h_a, NO_BYTES, cudaMemcpyHostToDevice);\n",
        "    cudaMemcpy(d_b, h_b, NO_BYTES, cudaMemcpyHostToDevice);\n",
        "\n",
        "    // 커널 크기\n",
        "    dim3 block(block_size);\n",
        "    // size가 완벽하게 block.x로 나눠지지 않을 때는 보통 1 grid size를 추가해준다.\n",
        "    dim3 grid((size/block.x) + 1);\n",
        "\n",
        "    sum_array_gpu<<<grid, block>>>(d_a, d_b, d_c, size);\n",
        "    cudaDeviceSynchronize();\n",
        "\n",
        "    cudaMemcpy(gpu_results, d_c, NO_BYTES, cudaMemcpyDeviceToHost);\n",
        "\n",
        "    // array comparison\n",
        "    compare_arrays(gpu_results, h_c, size);\n",
        "\n",
        "    cudaFree(d_a);\n",
        "    cudaFree(d_b);\n",
        "    cudaFree(d_c);\n",
        "\n",
        "    free(h_a);\n",
        "    free(h_b);\n",
        "    free(gpu_results);\n",
        "\n",
        "    cudaDeviceReset();\n",
        "    return 0;\n",
        "}"
      ],
      "metadata": {
        "colab": {
          "base_uri": "https://localhost:8080/"
        },
        "id": "oMzg3pCVbF4Y",
        "outputId": "e5460957-0fc7-4469-c66c-7d2b8dcbb372"
      },
      "execution_count": 7,
      "outputs": [
        {
          "output_type": "stream",
          "name": "stdout",
          "text": [
            "Arrays are same \n",
            "\n"
          ]
        }
      ]
    }
  ]
}