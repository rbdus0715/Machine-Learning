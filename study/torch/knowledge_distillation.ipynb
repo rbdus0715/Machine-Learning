{
  "nbformat": 4,
  "nbformat_minor": 0,
  "metadata": {
    "colab": {
      "provenance": [],
      "gpuType": "T4",
      "authorship_tag": "ABX9TyNp11HHdfFkADE2GxEbV6tt",
      "include_colab_link": true
    },
    "kernelspec": {
      "name": "python3",
      "display_name": "Python 3"
    },
    "language_info": {
      "name": "python"
    },
    "accelerator": "GPU"
  },
  "cells": [
    {
      "cell_type": "markdown",
      "metadata": {
        "id": "view-in-github",
        "colab_type": "text"
      },
      "source": [
        "<a href=\"https://colab.research.google.com/github/rbdus0715/Machine-Learning/blob/main/study/torch/knowledge_distillation.ipynb\" target=\"_parent\"><img src=\"https://colab.research.google.com/assets/colab-badge.svg\" alt=\"Open In Colab\"/></a>"
      ]
    },
    {
      "cell_type": "markdown",
      "source": [
        "# **knowledge-distillation을 이용해 CIFAR-10 데이터 모델 학습하기**\n",
        "- input_size = (3, 32, 32)\n",
        "input 이미지는 RGB로 3개의 채널을 갖는다. 각각의 이미지는 0에서 255까지의 $3*32*32=3072$개의 숫자를 갖는다.\n",
        "- 관습적으로 정규화를 한다. 이때 mean=[0.485, 0.456, 0.406], std=[0.229, 0.224, 0.225] 는 이미 계산된 값으로(이미지넷의 방대한 데이터를 통해 이미 값을 구함) 계산한다.\n",
        "- validation, test set을 통해 그리디하고 편향된 편향된 모델을 고르지 않도록 한다.\n"
      ],
      "metadata": {
        "id": "zli98nqrl1js"
      }
    },
    {
      "cell_type": "code",
      "execution_count": 1,
      "metadata": {
        "id": "z79bLDXbjUxa"
      },
      "outputs": [],
      "source": [
        "import torch\n",
        "import torch.nn as nn\n",
        "import torch.optim as optim\n",
        "import torchvision.transforms as transforms\n",
        "import torchvision.datasets as datasets\n",
        "device = torch.device(\"cuda\" if torch.cuda.is_available() else \"cpu\")"
      ]
    },
    {
      "cell_type": "code",
      "source": [
        "transforms_cifar = transforms.Compose([\n",
        "    transforms.ToTensor(),\n",
        "    transforms.Normalize(mean=[0.485, 0.456, 0.406], std=[0.229, 0.224, 0.225]),\n",
        "])\n",
        "\n",
        "train_dataset = datasets.CIFAR10(root='./data', train=True, download=True, transform=transforms_cifar)\n",
        "test_dataset = datasets.CIFAR10(root='./data', train=False, download=True, transform=transforms_cifar)\n",
        "\n",
        "train_loader = torch.utils.data.DataLoader(train_dataset, batch_size=128, shuffle=True, num_workers=2)\n",
        "test_loader = torch.utils.data.DataLoader(test_dataset, batch_size=128, shuffle=False, num_workers=2)"
      ],
      "metadata": {
        "colab": {
          "base_uri": "https://localhost:8080/"
        },
        "id": "oq7WnrYBj88S",
        "outputId": "7027e954-414b-4edb-b499-e834e5746c5f"
      },
      "execution_count": 2,
      "outputs": [
        {
          "output_type": "stream",
          "name": "stdout",
          "text": [
            "Downloading https://www.cs.toronto.edu/~kriz/cifar-10-python.tar.gz to ./data/cifar-10-python.tar.gz\n"
          ]
        },
        {
          "output_type": "stream",
          "name": "stderr",
          "text": [
            "100%|██████████| 170498071/170498071 [00:04<00:00, 36889549.63it/s]\n"
          ]
        },
        {
          "output_type": "stream",
          "name": "stdout",
          "text": [
            "Extracting ./data/cifar-10-python.tar.gz to ./data\n",
            "Files already downloaded and verified\n"
          ]
        }
      ]
    },
    {
      "cell_type": "markdown",
      "source": [
        "### **teacher model**"
      ],
      "metadata": {
        "id": "SrTntDM-mUak"
      }
    },
    {
      "cell_type": "code",
      "source": [
        "class DeepNN(nn.Module):\n",
        "    def __init__(self, num_classes=10):\n",
        "        super(DeepNN, self).__init__()\n",
        "        self.features = nn.Sequential(\n",
        "            nn.Conv2d(3, 128, kernel_size=3, padding=1), # 입력과 출력의 이미지 크기(W, H)가 동일\n",
        "            nn.ReLU(),\n",
        "            nn.Conv2d(128, 64, kernel_size=3, padding=1),\n",
        "            nn.ReLU(),\n",
        "            nn.MaxPool2d(kernel_size=2, stride=2), # 1/2 => 16\n",
        "            nn.Conv2d(64, 64, kernel_size=3, padding=1),\n",
        "            nn.ReLU(),\n",
        "            nn.Conv2d(64, 32, kernel_size=3, padding=1),\n",
        "            nn.ReLU(),\n",
        "            nn.MaxPool2d(kernel_size=2, stride=2), # 1/2 => 8\n",
        "        )\n",
        "        self.classifier = nn.Sequential(\n",
        "            nn.Linear(2048, 512), # 8*8*32\n",
        "            nn.ReLU(),\n",
        "            nn.Dropout(0.1),\n",
        "            nn.Linear(512, num_classes)\n",
        "        )\n",
        "\n",
        "    def forward(self, x):\n",
        "        x = self.features(x)\n",
        "        x = torch.flatten(x, 1)\n",
        "        x = self.classifier(x)\n",
        "        return x"
      ],
      "metadata": {
        "id": "Yf7qxlP2lbf0"
      },
      "execution_count": 5,
      "outputs": []
    },
    {
      "cell_type": "markdown",
      "source": [
        "### **student model**"
      ],
      "metadata": {
        "id": "QORiWPYamaml"
      }
    },
    {
      "cell_type": "code",
      "source": [
        "class LightNN(nn.Module):\n",
        "    def __init__(self, num_classes=10):\n",
        "        super(LightNN, self).__init__()\n",
        "        self.features = nn.Sequential(\n",
        "            nn.Conv2d(3, 16, kernel_size=3, padding=1),\n",
        "            nn.ReLU(),\n",
        "            nn.MaxPool2d(kernel_size=2, stride=2),\n",
        "            nn.Conv2d(16, 16, kernel_size=3, padding=1),\n",
        "            nn.ReLU(),\n",
        "            nn.MaxPool2d(kernel_size=2, stride=2),\n",
        "        )\n",
        "        self.classifier = nn.Sequential(\n",
        "            nn.Linear(1024, 256),\n",
        "            nn.ReLU(),\n",
        "            nn.Dropout(0.1),\n",
        "            nn.Linear(256, num_classes)\n",
        "        )\n",
        "\n",
        "    def forward(self, x):\n",
        "        x = self.features(x)\n",
        "        x = torch.flatten(x, 1)\n",
        "        x = self.classifier(x)\n",
        "        return x"
      ],
      "metadata": {
        "id": "G0VM9e3DmTBB"
      },
      "execution_count": 6,
      "outputs": []
    },
    {
      "cell_type": "markdown",
      "source": [
        "### **(1) 두 모델을 따로 따로 학습할 경우**\n",
        "![image](https://pytorch.org/tutorials/_static/img/knowledge_distillation/ce_only.png)"
      ],
      "metadata": {
        "id": "r3e2-dzYmqao"
      }
    },
    {
      "cell_type": "code",
      "source": [
        "def train(model, train_loader, epochs, learning_rate, device):\n",
        "    criterion = nn.CrossEntropyLoss()\n",
        "    optimizer = optim.Adam(model.parameters(), lr=learning_rate)\n",
        "\n",
        "    model.train()\n",
        "\n",
        "    for epoch in range(epochs):\n",
        "        running_loss = 0.0\n",
        "        for inputs, labels in train_loader:\n",
        "            # inputs: A collection of batch_size images\n",
        "            # labels: A vector of dimensionality batch_size with integers denoting class of each image\n",
        "            inputs, labels = inputs.to(device), labels.to(device)\n",
        "\n",
        "            optimizer.zero_grad()\n",
        "            outputs = model(inputs)\n",
        "\n",
        "            # outputs: Output of the network for the collection of images. A tensor of dimensionality batch_size x num_classes\n",
        "            # labels: The actual labels of the images. Vector of dimensionality batch_size\n",
        "            loss = criterion(outputs, labels)\n",
        "            loss.backward()\n",
        "            optimizer.step()\n",
        "\n",
        "            running_loss += loss.item()\n",
        "\n",
        "        print(f\"Epoch {epoch+1}/{epochs}, Loss: {running_loss / len(train_loader)}\")\n",
        "\n",
        "def test(model, test_loader, device):\n",
        "    model.to(device)\n",
        "    model.eval()\n",
        "\n",
        "    correct = 0\n",
        "    total = 0\n",
        "\n",
        "    with torch.no_grad():\n",
        "        for inputs, labels in test_loader:\n",
        "            inputs, labels = inputs.to(device), labels.to(device)\n",
        "\n",
        "            outputs = model(inputs)\n",
        "            _, predicted = torch.max(outputs.data, 1)\n",
        "\n",
        "            total += labels.size(0)\n",
        "            correct += (predicted == labels).sum().item()\n",
        "\n",
        "    accuracy = 100 * correct / total\n",
        "    print(f\"Test Accuracy: {accuracy:.2f}%\")\n",
        "    return accuracy"
      ],
      "metadata": {
        "id": "IRRYy89ImfGU"
      },
      "execution_count": 7,
      "outputs": []
    },
    {
      "cell_type": "code",
      "source": [
        "# teacher 모델 학습\n",
        "torch.manual_seed(42)\n",
        "nn_deep = DeepNN(num_classes=10).to(device)\n",
        "train(nn_deep, train_loader, epochs=10, learning_rate=0.001, device=device)\n",
        "test_accuracy_deep = test(nn_deep, test_loader, device)"
      ],
      "metadata": {
        "colab": {
          "base_uri": "https://localhost:8080/"
        },
        "id": "8H2NpLmHm-IE",
        "outputId": "decafa23-0722-4d28-96f0-e6289810e696"
      },
      "execution_count": 8,
      "outputs": [
        {
          "output_type": "stream",
          "name": "stdout",
          "text": [
            "Epoch 1/10, Loss: 1.3274784684181213\n",
            "Epoch 2/10, Loss: 0.8580730706834427\n",
            "Epoch 3/10, Loss: 0.6700014244869846\n",
            "Epoch 4/10, Loss: 0.5216707536174209\n",
            "Epoch 5/10, Loss: 0.40041357522730325\n",
            "Epoch 6/10, Loss: 0.30138443646680974\n",
            "Epoch 7/10, Loss: 0.21878984379951302\n",
            "Epoch 8/10, Loss: 0.16316649320599674\n",
            "Epoch 9/10, Loss: 0.13847680837201798\n",
            "Epoch 10/10, Loss: 0.12241659970368113\n",
            "Test Accuracy: 75.07%\n"
          ]
        }
      ]
    },
    {
      "cell_type": "code",
      "source": [
        "# student 모델도 따로 학습\n",
        "torch.manual_seed(42)\n",
        "nn_light = LightNN(num_classes=10).to(device)\n",
        "train(nn_light, train_loader, epochs=10, learning_rate=0.001, device=device)\n",
        "test_accuracy_light_ce = test(nn_light, test_loader, device)"
      ],
      "metadata": {
        "colab": {
          "base_uri": "https://localhost:8080/"
        },
        "id": "5K1j3o3um_lw",
        "outputId": "9fed5b4e-be4a-4c9b-b0ff-1b3bda3edfd8"
      },
      "execution_count": 9,
      "outputs": [
        {
          "output_type": "stream",
          "name": "stdout",
          "text": [
            "Epoch 1/10, Loss: 1.4686428927399617\n",
            "Epoch 2/10, Loss: 1.1556611867511974\n",
            "Epoch 3/10, Loss: 1.0255111684579679\n",
            "Epoch 4/10, Loss: 0.9260330683435015\n",
            "Epoch 5/10, Loss: 0.851034722059889\n",
            "Epoch 6/10, Loss: 0.78426359864452\n",
            "Epoch 7/10, Loss: 0.719441860685568\n",
            "Epoch 8/10, Loss: 0.6630732270762744\n",
            "Epoch 9/10, Loss: 0.6090736340378862\n",
            "Epoch 10/10, Loss: 0.5616097274948569\n",
            "Test Accuracy: 70.26%\n"
          ]
        }
      ]
    },
    {
      "cell_type": "code",
      "source": [
        "total_params_deep = \"{:,}\".format(sum(p.numel() for p in nn_deep.parameters()))\n",
        "print(f\"DeepNN parameters: {total_params_deep}\")\n",
        "total_params_light = \"{:,}\".format(sum(p.numel() for p in nn_light.parameters()))\n",
        "print(f\"LightNN parameters: {total_params_light}\")"
      ],
      "metadata": {
        "colab": {
          "base_uri": "https://localhost:8080/"
        },
        "id": "X0uJE4e9q7MR",
        "outputId": "79aea2be-6d95-4eb7-e122-63e192200a6e"
      },
      "execution_count": 10,
      "outputs": [
        {
          "output_type": "stream",
          "name": "stdout",
          "text": [
            "DeepNN parameters: 1,186,986\n",
            "LightNN parameters: 267,738\n"
          ]
        }
      ]
    },
    {
      "cell_type": "markdown",
      "source": [
        "### **(2) knowledge distillation 활용하여 학습할 경우**\n",
        "![image](https://pytorch.org/tutorials/_static/img/knowledge_distillation/distillation_output_loss.png)\n",
        "- 두 네트워크 모두 클래스에 대한 확률분포를 출력한다는 사실에 기반하여 knowledge distillation을 사용한다.\n",
        "- 전통적인 cross entropy loss에 추가적인 loss를 통합하였다."
      ],
      "metadata": {
        "id": "Qve2FVd4oJzS"
      }
    },
    {
      "cell_type": "code",
      "source": [
        "def train_knowledge_distillation(\n",
        "        teacher,\n",
        "        student,\n",
        "        train_loader,\n",
        "        epochs,\n",
        "        learning_rate,\n",
        "        T,\n",
        "        soft_target_loss_weight,\n",
        "        ce_loss_weight, device):\n",
        "\n",
        "    ce_loss = nn.CrossEntropyLoss()\n",
        "    optimizer = optim.Adam(student.parameters(), lr=learning_rate)\n",
        "\n",
        "    teacher.eval()  # Teacher set to evaluation mode\n",
        "    student.train() # Student to train mode\n",
        "\n",
        "    for epoch in range(epochs):\n",
        "        running_loss = 0.0\n",
        "        for inputs, labels in train_loader:\n",
        "            inputs, labels = inputs.to(device), labels.to(device)\n",
        "\n",
        "            optimizer.zero_grad()\n",
        "\n",
        "            # Forward pass with the teacher model - do not save gradients here as we do not change the teacher's weights\n",
        "            with torch.no_grad():\n",
        "                teacher_logits = teacher(inputs)\n",
        "\n",
        "            # Forward pass with the student model\n",
        "            student_logits = student(inputs)\n",
        "\n",
        "            #Soften the student logits by applying softmax first and log() second\n",
        "            soft_targets = nn.functional.softmax(teacher_logits / T, dim=-1)\n",
        "            soft_prob = nn.functional.log_softmax(student_logits / T, dim=-1)\n",
        "\n",
        "            # Calculate the soft targets loss. Scaled by T**2 as suggested by the authors of the paper \"Distilling the knowledge in a neural network\"\n",
        "            soft_targets_loss = -torch.sum(soft_targets * soft_prob) / soft_prob.size()[0] * (T**2)\n",
        "\n",
        "            # Calculate the true label loss\n",
        "            label_loss = ce_loss(student_logits, labels)\n",
        "\n",
        "            # Weighted sum of the two losses\n",
        "            loss = soft_target_loss_weight * soft_targets_loss + ce_loss_weight * label_loss\n",
        "\n",
        "            loss.backward()\n",
        "            optimizer.step()\n",
        "\n",
        "            running_loss += loss.item()\n",
        "\n",
        "        print(f\"Epoch {epoch+1}/{epochs}, Loss: {running_loss / len(train_loader)}\")"
      ],
      "metadata": {
        "id": "YvPnCBYyn5cS"
      },
      "execution_count": 13,
      "outputs": []
    },
    {
      "cell_type": "code",
      "source": [
        "new_nn_light = LightNN(num_classes=10).to(device)\n",
        "train_knowledge_distillation(teacher=nn_deep,\n",
        "                             student=new_nn_light,\n",
        "                             train_loader=train_loader,\n",
        "                             epochs=10,\n",
        "                             learning_rate=0.001,\n",
        "                             T=2,\n",
        "                             soft_target_loss_weight=0.25,\n",
        "                             ce_loss_weight=0.75,\n",
        "                             device=device)\n",
        "test_accuracy_light_ce_and_kd = test(new_nn_light, test_loader, device)"
      ],
      "metadata": {
        "id": "dCO-0TBAoaYc",
        "colab": {
          "base_uri": "https://localhost:8080/"
        },
        "outputId": "692b3d27-6a84-44b9-be54-5e77ec22029c"
      },
      "execution_count": 12,
      "outputs": [
        {
          "output_type": "stream",
          "name": "stdout",
          "text": [
            "Epoch 1/10, Loss: 2.749704034127238\n",
            "Epoch 2/10, Loss: 2.1972148860506997\n",
            "Epoch 3/10, Loss: 1.9530151445237571\n",
            "Epoch 4/10, Loss: 1.7764418722723452\n",
            "Epoch 5/10, Loss: 1.6377761455448083\n",
            "Epoch 6/10, Loss: 1.526027757188548\n",
            "Epoch 7/10, Loss: 1.4389124096507002\n",
            "Epoch 8/10, Loss: 1.3445899931671064\n",
            "Epoch 9/10, Loss: 1.2706740756169\n",
            "Epoch 10/10, Loss: 1.197351996703526\n",
            "Test Accuracy: 69.85%\n"
          ]
        }
      ]
    },
    {
      "cell_type": "code",
      "source": [
        "print(f\"Teacher accuracy: {test_accuracy_deep:.2f}%\")\n",
        "print(f\"Student accuracy without teacher: {test_accuracy_light_ce:.2f}%\")\n",
        "print(f\"Student accuracy with CE + KD: {test_accuracy_light_ce_and_kd:.2f}%\")"
      ],
      "metadata": {
        "colab": {
          "base_uri": "https://localhost:8080/"
        },
        "id": "k2F3OWRzx840",
        "outputId": "8fd36433-f95b-4e37-fc84-07a9ccc7a278"
      },
      "execution_count": 14,
      "outputs": [
        {
          "output_type": "stream",
          "name": "stdout",
          "text": [
            "Teacher accuracy: 75.07%\n",
            "Student accuracy without teacher: 70.26%\n",
            "Student accuracy with CE + KD: 69.85%\n"
          ]
        }
      ]
    }
  ]
}