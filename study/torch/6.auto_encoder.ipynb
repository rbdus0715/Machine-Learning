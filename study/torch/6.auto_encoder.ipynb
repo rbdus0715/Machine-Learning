{
  "nbformat": 4,
  "nbformat_minor": 0,
  "metadata": {
    "colab": {
      "provenance": [],
      "gpuType": "T4",
      "authorship_tag": "ABX9TyNDKYYDsStUd1pmyYVVz5qp",
      "include_colab_link": true
    },
    "kernelspec": {
      "name": "python3",
      "display_name": "Python 3"
    },
    "language_info": {
      "name": "python"
    },
    "accelerator": "GPU"
  },
  "cells": [
    {
      "cell_type": "markdown",
      "metadata": {
        "id": "view-in-github",
        "colab_type": "text"
      },
      "source": [
        "<a href=\"https://colab.research.google.com/github/rbdus0715/Machine-Learning/blob/main/study/torch/6.auto_encoder.ipynb\" target=\"_parent\"><img src=\"https://colab.research.google.com/assets/colab-badge.svg\" alt=\"Open In Colab\"/></a>"
      ]
    },
    {
      "cell_type": "markdown",
      "source": [
        "## **1. 이미지에 노이즈 추가**"
      ],
      "metadata": {
        "id": "QI18nLegwXk0"
      }
    },
    {
      "cell_type": "code",
      "execution_count": 1,
      "metadata": {
        "id": "RsF8qnMEtx38"
      },
      "outputs": [],
      "source": [
        "import matplotlib.pyplot as plt\n",
        "import numpy as np\n",
        "import torch\n",
        "from torchvision.datasets.mnist import MNIST\n",
        "from torchvision.transforms import ToTensor\n",
        "\n",
        "# 이미지에 가우스 노이즈를 추가하는 함수\n",
        "def gaussian_noise(x, scale=0.8):\n",
        "\n",
        "    gaussian_data_x = x + np.random.normal(\n",
        "        loc=0,\n",
        "        scale=scale,\n",
        "        size=x.shape\n",
        "    )\n",
        "\n",
        "    # 이미지의 픽셀값을 0과 1 사이로 정규화\n",
        "    gaussian_data_x = np.clip(\n",
        "        gaussian_data_x, 0, 1\n",
        "    )\n",
        "\n",
        "    gaussian_data_x = torch.tensor(gaussian_data_x)\n",
        "    gaussian_data_x = gaussian_data_x.type(torch.FloatTensor)\n",
        "    return gaussian_data_x"
      ]
    },
    {
      "cell_type": "code",
      "source": [
        "training_data = MNIST(\n",
        "    root='./',\n",
        "    train=True,\n",
        "    download=True,\n",
        "    transform=ToTensor()\n",
        ")\n",
        "\n",
        "test_data = MNIST(\n",
        "    root='./',\n",
        "    train=False,\n",
        "    download=True,\n",
        "    transform=ToTensor()\n",
        ")"
      ],
      "metadata": {
        "id": "KoTUJ0rwuwdd",
        "colab": {
          "base_uri": "https://localhost:8080/"
        },
        "outputId": "25ab9c7b-ab2f-4016-e056-3fd3a7b23001"
      },
      "execution_count": 2,
      "outputs": [
        {
          "output_type": "stream",
          "name": "stdout",
          "text": [
            "Downloading http://yann.lecun.com/exdb/mnist/train-images-idx3-ubyte.gz\n",
            "Downloading http://yann.lecun.com/exdb/mnist/train-images-idx3-ubyte.gz to ./MNIST/raw/train-images-idx3-ubyte.gz\n"
          ]
        },
        {
          "output_type": "stream",
          "name": "stderr",
          "text": [
            "100%|██████████| 9912422/9912422 [00:00<00:00, 114135266.84it/s]\n"
          ]
        },
        {
          "output_type": "stream",
          "name": "stdout",
          "text": [
            "Extracting ./MNIST/raw/train-images-idx3-ubyte.gz to ./MNIST/raw\n",
            "\n",
            "Downloading http://yann.lecun.com/exdb/mnist/train-labels-idx1-ubyte.gz\n",
            "Downloading http://yann.lecun.com/exdb/mnist/train-labels-idx1-ubyte.gz to ./MNIST/raw/train-labels-idx1-ubyte.gz\n"
          ]
        },
        {
          "output_type": "stream",
          "name": "stderr",
          "text": [
            "100%|██████████| 28881/28881 [00:00<00:00, 45216757.68it/s]\n"
          ]
        },
        {
          "output_type": "stream",
          "name": "stdout",
          "text": [
            "Extracting ./MNIST/raw/train-labels-idx1-ubyte.gz to ./MNIST/raw\n",
            "\n",
            "Downloading http://yann.lecun.com/exdb/mnist/t10k-images-idx3-ubyte.gz\n",
            "Downloading http://yann.lecun.com/exdb/mnist/t10k-images-idx3-ubyte.gz to ./MNIST/raw/t10k-images-idx3-ubyte.gz\n"
          ]
        },
        {
          "output_type": "stream",
          "name": "stderr",
          "text": [
            "100%|██████████| 1648877/1648877 [00:00<00:00, 28055102.60it/s]\n"
          ]
        },
        {
          "output_type": "stream",
          "name": "stdout",
          "text": [
            "Extracting ./MNIST/raw/t10k-images-idx3-ubyte.gz to ./MNIST/raw\n",
            "\n",
            "Downloading http://yann.lecun.com/exdb/mnist/t10k-labels-idx1-ubyte.gz\n",
            "Downloading http://yann.lecun.com/exdb/mnist/t10k-labels-idx1-ubyte.gz to ./MNIST/raw/t10k-labels-idx1-ubyte.gz\n"
          ]
        },
        {
          "output_type": "stream",
          "name": "stderr",
          "text": [
            "100%|██████████| 4542/4542 [00:00<00:00, 8655396.99it/s]\n"
          ]
        },
        {
          "output_type": "stream",
          "name": "stdout",
          "text": [
            "Extracting ./MNIST/raw/t10k-labels-idx1-ubyte.gz to ./MNIST/raw\n",
            "\n"
          ]
        }
      ]
    },
    {
      "cell_type": "code",
      "source": [
        "img = training_data.data[0]\n",
        "gaussian = gaussian_noise(img)\n",
        "\n",
        "plt.subplot(1, 2, 1)\n",
        "plt.title(\"original\")\n",
        "plt.imshow(img)\n",
        "plt.subplot(1, 2, 2)\n",
        "plt.title(\"nosiy\")\n",
        "plt.imshow(gaussian)"
      ],
      "metadata": {
        "colab": {
          "base_uri": "https://localhost:8080/",
          "height": 383
        },
        "id": "7GWE87n2vLF2",
        "outputId": "ff8c2fd4-358d-462a-f05e-10e89cd1e674"
      },
      "execution_count": 3,
      "outputs": [
        {
          "output_type": "stream",
          "name": "stderr",
          "text": [
            "<ipython-input-1-4a17804700fa>:21: UserWarning: To copy construct from a tensor, it is recommended to use sourceTensor.clone().detach() or sourceTensor.clone().detach().requires_grad_(True), rather than torch.tensor(sourceTensor).\n",
            "  gaussian_data_x = torch.tensor(gaussian_data_x)\n"
          ]
        },
        {
          "output_type": "execute_result",
          "data": {
            "text/plain": [
              "<matplotlib.image.AxesImage at 0x7920518921a0>"
            ]
          },
          "metadata": {},
          "execution_count": 3
        },
        {
          "output_type": "display_data",
          "data": {
            "text/plain": [
              "<Figure size 640x480 with 2 Axes>"
            ],
            "image/png": "[encoded data removed]"
          },
          "metadata": {}
        }
      ]
    },
    {
      "cell_type": "markdown",
      "source": [
        "## **2. 데이터셋**"
      ],
      "metadata": {
        "id": "hJCXg9N4wd6c"
      }
    },
    {
      "cell_type": "code",
      "source": [
        "from torch.utils.data.dataset import Dataset\n",
        "\n",
        "\n",
        "class Denoising(Dataset):\n",
        "   def __init__(self):\n",
        "       self.mnist = MNIST(\n",
        "           root=\"./\",\n",
        "           train=True,\n",
        "           download=True,\n",
        "           transform=ToTensor())\n",
        "       self.data = []\n",
        "\n",
        "       for i in range(len(self.mnist)):\n",
        "           noisy_input = gaussian_noise(self.mnist.data[i])\n",
        "           input_tensor = torch.tensor(noisy_input)\n",
        "           self.data.append(torch.unsqueeze(input_tensor, dim=0))\n",
        "\n",
        "   def __len__(self):\n",
        "       return len(self.data)\n",
        "\n",
        "   def __getitem__(self, i):\n",
        "       data = self.data[i]\n",
        "       label = self.mnist.data[i]/255\n",
        "       return data, label"
      ],
      "metadata": {
        "id": "PF4AUdrrvN6a"
      },
      "execution_count": 4,
      "outputs": []
    },
    {
      "cell_type": "markdown",
      "source": [
        "## **3. 모델 정의하기**"
      ],
      "metadata": {
        "id": "KxkPG_86wriT"
      }
    },
    {
      "cell_type": "code",
      "source": [
        "import torch.nn as nn\n",
        "\n",
        "class BasicBlock(nn.Module):\n",
        "    def __init__(self, in_channels, out_channels, hidden_dim):\n",
        "        super(BasicBlock, self).__init__()\n",
        "\n",
        "        self.conv1 = nn.Conv2d(\n",
        "            in_channels,\n",
        "            hidden_dim,\n",
        "            kernel_size=3,\n",
        "            padding=1\n",
        "        )\n",
        "        self.conv2 = nn.Conv2d(\n",
        "            hidden_dim,\n",
        "            out_channels,\n",
        "            kernel_size=3,\n",
        "            padding=1\n",
        "        )\n",
        "        self.relu = nn.ReLU()\n",
        "\n",
        "    def forward(self, x):\n",
        "        x = self.conv1(x)\n",
        "        x = self.relu(x)\n",
        "        x = self.conv2(x)\n",
        "        x = self.relu(x)\n",
        "        return x"
      ],
      "metadata": {
        "id": "C5dvCwKawhta"
      },
      "execution_count": 5,
      "outputs": []
    },
    {
      "cell_type": "code",
      "source": [
        "class Encoder(nn.Module):\n",
        "   def __init__(self):\n",
        "       super(Encoder, self).__init__()\n",
        "\n",
        "       self.conv1 = BasicBlock(in_channels=1, out_channels=16, hidden_dim=16)\n",
        "       self.conv2 = BasicBlock(in_channels=16, out_channels=8, hidden_dim=8)\n",
        "\n",
        "       self.pool = nn.AvgPool2d(kernel_size=2, stride=2)\n",
        "\n",
        "   def forward(self, x):\n",
        "       x = self.conv1(x)\n",
        "       x = self.pool(x)\n",
        "       x = self.conv2(x)\n",
        "       x = self.pool(x)\n",
        "\n",
        "       return x"
      ],
      "metadata": {
        "id": "f_73CCTWzR8w"
      },
      "execution_count": 6,
      "outputs": []
    },
    {
      "cell_type": "code",
      "source": [
        "class Decoder(nn.Module):\n",
        "    def __init__(self):\n",
        "        super(Decoder, self).__init__()\n",
        "        self.conv1 = BasicBlock(in_channels=8, out_channels=8, hidden_dim=8)\n",
        "        self.conv2 = BasicBlock(in_channels=8, out_channels=16, hidden_dim=16)\n",
        "\n",
        "        self.conv3 = nn.Conv2d(in_channels=16, out_channels=1, kernel_size=3, padding=1)\n",
        "\n",
        "        self.upsample1 = nn.ConvTranspose2d(8, 8, kernel_size=2, stride=2)\n",
        "        self.upsample2 = nn.ConvTranspose2d(16, 16, kernel_size=2, stride=2)\n",
        "\n",
        "    def forward(self, x):\n",
        "        x = self.conv1(x)\n",
        "        x = self.upsample1(x)\n",
        "        x = self.conv2(x)\n",
        "        x = self.upsample2(x)\n",
        "        x = self.conv3(x)\n",
        "        return x"
      ],
      "metadata": {
        "id": "_5PZICL3xR-x"
      },
      "execution_count": 10,
      "outputs": []
    },
    {
      "cell_type": "code",
      "source": [
        "# 인코더 + 디코더\n",
        "class CAE(nn.Module):\n",
        "    def __init__(self):\n",
        "        super(CAE, self).__init__()\n",
        "        self.enc = Encoder()\n",
        "        self.dec = Decoder()\n",
        "\n",
        "    def forward(self, x):\n",
        "        x = self.enc(x)\n",
        "        x = self.dec(x)\n",
        "        x = torch.squeeze(x)\n",
        "        return x"
      ],
      "metadata": {
        "id": "5XwGPisNyEee"
      },
      "execution_count": 11,
      "outputs": []
    },
    {
      "cell_type": "markdown",
      "source": [
        "## **4. 훈련**"
      ],
      "metadata": {
        "id": "wsbvEszn-lka"
      }
    },
    {
      "cell_type": "code",
      "source": [
        "import tqdm\n",
        "\n",
        "from torch.utils.data.dataloader import DataLoader\n",
        "from torch.optim.adam import Adam\n",
        "\n",
        "device = \"cuda\" if torch.cuda.is_available() else \"cpu\"\n",
        "\n",
        "trainset = Denoising()  # 학습에 이용할 데이터셋\n",
        "train_loader = DataLoader(trainset, batch_size=32)  # 한 번에 이미지 32장 사용\n",
        "\n",
        "model = CAE().to(device)  # 디노이징에 사용할 오토인코더 모델\n",
        "\n",
        "\n",
        "# 학습률과 최적화를 정의\n",
        "lr = 0.001\n",
        "optim = Adam(params=model.parameters(), lr=lr)\n",
        "\n",
        "for epoch in range(20):\n",
        "   iterator = tqdm.tqdm(train_loader)\n",
        "\n",
        "   for data, label in iterator:\n",
        "       optim.zero_grad()\n",
        "       pred = model(data.to(device))\n",
        "\n",
        "       loss = nn.MSELoss()(torch.squeeze(pred), label.to(device))  # 손실의 계산\n",
        "       loss.backward()  # 오차 역전파\n",
        "       optim.step()  # 최적화\n",
        "       iterator.set_description(f\"epoch{epoch+1} loss:{loss.item()}\")\n",
        "\n",
        "torch.save(model.state_dict(), \"./CAE.pth\")  # 모델의 가중치 저장"
      ],
      "metadata": {
        "colab": {
          "base_uri": "https://localhost:8080/"
        },
        "id": "gOYBOrplzUfj",
        "outputId": "10e28cce-7294-47ce-ae78-a0d08cc5b502"
      },
      "execution_count": 12,
      "outputs": [
        {
          "output_type": "stream",
          "name": "stderr",
          "text": [
            "<ipython-input-1-4a17804700fa>:21: UserWarning: To copy construct from a tensor, it is recommended to use sourceTensor.clone().detach() or sourceTensor.clone().detach().requires_grad_(True), rather than torch.tensor(sourceTensor).\n",
            "  gaussian_data_x = torch.tensor(gaussian_data_x)\n",
            "<ipython-input-4-e95301cf6230>:15: UserWarning: To copy construct from a tensor, it is recommended to use sourceTensor.clone().detach() or sourceTensor.clone().detach().requires_grad_(True), rather than torch.tensor(sourceTensor).\n",
            "  input_tensor = torch.tensor(noisy_input)\n",
            "epoch1 loss:0.012554689310491085: 100%|██████████| 1875/1875 [00:15<00:00, 117.27it/s]\n",
            "epoch2 loss:0.01068887859582901: 100%|██████████| 1875/1875 [00:14<00:00, 126.10it/s]\n",
            "epoch3 loss:0.00971812941133976: 100%|██████████| 1875/1875 [00:15<00:00, 124.40it/s]\n",
            "epoch4 loss:0.00951765850186348: 100%|██████████| 1875/1875 [00:15<00:00, 119.10it/s]\n",
            "epoch5 loss:0.009337902069091797: 100%|██████████| 1875/1875 [00:21<00:00, 86.58it/s]\n",
            "epoch6 loss:0.00910989474505186: 100%|██████████| 1875/1875 [00:26<00:00, 71.17it/s]\n",
            "epoch7 loss:0.00849058385938406: 100%|██████████| 1875/1875 [00:21<00:00, 85.78it/s]\n",
            "epoch8 loss:0.00811723805963993: 100%|██████████| 1875/1875 [00:20<00:00, 93.59it/s]\n",
            "epoch9 loss:0.008050314150750637: 100%|██████████| 1875/1875 [00:20<00:00, 90.97it/s]\n",
            "epoch10 loss:0.007954650558531284: 100%|██████████| 1875/1875 [00:16<00:00, 115.02it/s]\n",
            "epoch11 loss:0.007872513495385647: 100%|██████████| 1875/1875 [00:17<00:00, 104.24it/s]\n",
            "epoch12 loss:0.007862494327127934: 100%|██████████| 1875/1875 [00:17<00:00, 108.72it/s]\n",
            "epoch13 loss:0.007884920574724674: 100%|██████████| 1875/1875 [00:16<00:00, 111.96it/s]\n",
            "epoch14 loss:0.007867184467613697: 100%|██████████| 1875/1875 [00:21<00:00, 89.03it/s] \n",
            "epoch15 loss:0.007883496582508087: 100%|██████████| 1875/1875 [00:17<00:00, 105.62it/s]\n",
            "epoch16 loss:0.00786538701504469: 100%|██████████| 1875/1875 [00:15<00:00, 121.71it/s]\n",
            "epoch17 loss:0.007865700870752335: 100%|██████████| 1875/1875 [00:15<00:00, 123.06it/s]\n",
            "epoch18 loss:0.007889969274401665: 100%|██████████| 1875/1875 [00:15<00:00, 118.93it/s]\n",
            "epoch19 loss:0.007913237437605858: 100%|██████████| 1875/1875 [00:15<00:00, 122.84it/s]\n",
            "epoch20 loss:0.007918771356344223: 100%|██████████| 1875/1875 [00:15<00:00, 119.95it/s]\n"
          ]
        }
      ]
    },
    {
      "cell_type": "code",
      "source": [
        "model.cpu()\n",
        "\n",
        "with torch.no_grad():\n",
        "    model.load_state_dict(torch.load(\"./CAE.pth\", map_location=device))\n",
        "\n",
        "    img = test_data.data[0]\n",
        "    gaussian = gaussian_noise(img)\n",
        "    input = torch.unsqueeze(gaussian, dim=0) # 이미지 + 가우스 잡음\n",
        "    input.type(torch.FloatTensor)\n",
        "    input.to(device)\n",
        "    input = torch.unsqueeze(input, dim=0) # 배치 크기 1을 위한 배치 차원 추가\n",
        "\n",
        "    plt.subplot(1, 3, 1)\n",
        "    plt.title(\"gaussian\")\n",
        "    plt.imshow(torch.squeeze(gaussian))\n",
        "    plt.subplot(1, 3, 2)\n",
        "    plt.title(\"noise remove\")\n",
        "    plt.imshow(torch.squeeze(model(input)))\n",
        "    plt.subplot(1, 3, 3)\n",
        "    plt.title(\"label data\")\n",
        "    plt.imshow(torch.squeeze(img))\n",
        "    plt.show()"
      ],
      "metadata": {
        "id": "Ai7OoFmgzY61",
        "colab": {
          "base_uri": "https://localhost:8080/",
          "height": 285
        },
        "outputId": "e9cea7a6-1240-4da5-ff53-7baf672e7f36"
      },
      "execution_count": 13,
      "outputs": [
        {
          "output_type": "stream",
          "name": "stderr",
          "text": [
            "<ipython-input-1-4a17804700fa>:21: UserWarning: To copy construct from a tensor, it is recommended to use sourceTensor.clone().detach() or sourceTensor.clone().detach().requires_grad_(True), rather than torch.tensor(sourceTensor).\n",
            "  gaussian_data_x = torch.tensor(gaussian_data_x)\n"
          ]
        },
        {
          "output_type": "display_data",
          "data": {
            "text/plain": [
              "<Figure size 640x480 with 3 Axes>"
            ],
            "image/png": "[encoded data removed]"
          },
          "metadata": {}
        }
      ]
    }
  ]
}