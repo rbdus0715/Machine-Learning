{
  "nbformat": 4,
  "nbformat_minor": 0,
  "metadata": {
    "colab": {
      "provenance": [],
      "include_colab_link": true
    },
    "kernelspec": {
      "name": "python3",
      "display_name": "Python 3"
    },
    "language_info": {
      "name": "python"
    }
  },
  "cells": [
    {
      "cell_type": "markdown",
      "metadata": {
        "id": "view-in-github",
        "colab_type": "text"
      },
      "source": [
        "<a href=\"https://colab.research.google.com/github/rbdus0715/Machine-Learning/blob/main/study/torch/11.human_face_gan.ipynb\" target=\"_parent\"><img src=\"https://colab.research.google.com/assets/colab-badge.svg\" alt=\"Open In Colab\"/></a>"
      ]
    },
    {
      "cell_type": "markdown",
      "source": [
        "## **생성자**"
      ],
      "metadata": {
        "id": "UH-IJ4SCRiTJ"
      }
    },
    {
      "cell_type": "code",
      "source": [
        "import torch\n",
        "import torch.nn as nn\n",
        "\n",
        "class Generator(nn.Module):\n",
        "    def __init__(self):\n",
        "        super(Generator, self).__init__()\n",
        "\n",
        "        # 잠재공간 상의 특징 하나를 받는다.\n",
        "        # 이때 여기서는 그 잠재공간의 차원이 100차원이라고 가정한다.\n",
        "\n",
        "        # 생성자를 구성하는 층 정의\n",
        "        self.gen = nn.Sequential(\n",
        "            # 기본블럭 형태: 업샘플링 -> 배치정규화 -> ReLU\n",
        "            nn.ConvTranspose2d(100, 512, kernel_size=4, bias=False),\n",
        "            nn.BatchNorm2d(512),\n",
        "            nn.ReLU(),\n",
        "\n",
        "            nn.ConvTranspose2d(512, 256, kernel_size=4, stride=2, padding=1, bias=False),\n",
        "            nn.BatchNorm2d(256),\n",
        "            nn.ReLU(),\n",
        "\n",
        "            nn.ConvTranspose2d(256, 128, kernel_size=4, stride=2, padding=1, bias=False),\n",
        "            nn.BatchNorm2d(128),\n",
        "            nn.ReLU(),\n",
        "\n",
        "            nn.ConvTranspose2d(128, 64, kernel_size=4, stride=2, padding=1, bias=False),\n",
        "            nn.BatchNorm2d(64),\n",
        "            nn.ReLU(),\n",
        "\n",
        "            nn.ConvTranspose2d(64, 3, kernel_size=4, stride=2, padding=1, bias=False),\n",
        "            nn.Tanh()\n",
        "        )\n",
        "\n",
        "    def forward(self, x):\n",
        "        return self.gen(x)"
      ],
      "metadata": {
        "id": "fqV6hFPvQfYC"
      },
      "execution_count": null,
      "outputs": []
    },
    {
      "cell_type": "markdown",
      "source": [
        "## **감별자 정의**"
      ],
      "metadata": {
        "id": "Wy6UolSBRntO"
      }
    },
    {
      "cell_type": "code",
      "source": [
        "class Discriminator(nn.Module):\n",
        "    def __init__(self):\n",
        "        super(Discriminator, self).__init__()\n",
        "\n",
        "        # 감별자를 구성하는 층의 정의\n",
        "        self.disc = nn.Sequential(\n",
        "            # 기본블럭 형태: 합성곱 -> 배치정규화 -> LeakyReLU\n",
        "            nn.Conv2d(3, 64, kernel_size=4, stride=2, padding=1, bias=False),\n",
        "            nn.BatchNorm2d(64),\n",
        "            nn.LeakyReLU(0.2),\n",
        "\n",
        "            nn.Conv2d(64, 128, kernel_size=4, stride=2, padding=1, bias=False),\n",
        "            nn.BatchNorm2d(128),\n",
        "            nn.LeakyReLU(0.2),\n",
        "\n",
        "            nn.Conv2d(128, 256, kernel_size=4, stride=2, padding=1, bias=False),\n",
        "            nn.BatchNorm2d(256),\n",
        "            nn.LeakyReLU(0.2),\n",
        "\n",
        "            nn.Conv2d(256, 512, kernel_size=4, stride=2, padding=1, bias=False),\n",
        "            nn.BatchNorm2d(512),\n",
        "            nn.LeakyReLU(0.2),\n",
        "\n",
        "            nn.Conv2d(512, 1, kernel_size=4),\n",
        "            nn.Sigmoid()\n",
        "        )\n",
        "\n",
        "    def forward(self, x):\n",
        "        return self.disc(x)"
      ],
      "metadata": {
        "id": "b56JhqcTRkmi"
      },
      "execution_count": null,
      "outputs": []
    },
    {
      "cell_type": "markdown",
      "source": [
        "## **GAN의 가중치 초기화**\n",
        "- GAN은 특징 공간을 학습하는 것으로 보기 때문에 학습하기 더 어렵다.\n",
        "- 학습을 원활하게 이루어질 수 있도록 가중치의 초기화를 설정한다."
      ],
      "metadata": {
        "id": "r4dqHVUbRuSw"
      }
    },
    {
      "cell_type": "code",
      "source": [
        "def weights_init(m):\n",
        "   # 층의 종류 추출\n",
        "   classname = m.__class__.__name__\n",
        "   if classname.find('Conv') != -1:\n",
        "       # 합성곱층 초기화\n",
        "       nn.init.normal_(m.weight.data, 0.0, 0.02)\n",
        "   elif classname.find('BatchNorm') != -1:\n",
        "       # 배치정규화층 초기화\n",
        "       nn.init.normal_(m.weight.data, 1.0, 0.02)\n",
        "       nn.init.constant_(m.bias.data, 0)"
      ],
      "metadata": {
        "id": "wF8j6kH0Rpo2"
      },
      "execution_count": null,
      "outputs": []
    },
    {
      "cell_type": "markdown",
      "source": [
        "## **학습에 필요한 요소 정의**"
      ],
      "metadata": {
        "id": "rlaienghR0mX"
      }
    },
    {
      "cell_type": "code",
      "source": [
        "device = \"cuda\" if torch.cuda.is_available() else \"cpu\"\n",
        "\n",
        "# 생성자 정의\n",
        "G = Generator().to(device)\n",
        "# ❶ 생성자 가중치 초기화\n",
        "G.apply(weights_init)\n",
        "\n",
        "# 감별자 정의\n",
        "D = Discriminator().to(device)\n",
        "# ❷ 감별자 가중치 초기화\n",
        "D.apply(weights_init)\n",
        "\n",
        "import tqdm\n",
        "\n",
        "from torch.optim.adam import Adam\n",
        "\n",
        "G_optim = Adam(G.parameters(), lr=0.0001, betas=(0.5, 0.999))\n",
        "D_optim = Adam(D.parameters(), lr=0.0001, betas=(0.5, 0.999))"
      ],
      "metadata": {
        "id": "q6f8RIi9RwIJ"
      },
      "execution_count": null,
      "outputs": []
    },
    {
      "cell_type": "markdown",
      "source": [
        "## **학습**"
      ],
      "metadata": {
        "id": "SRs1hpuXR6by"
      }
    },
    {
      "cell_type": "code",
      "source": [
        "for epochs in range(50):\n",
        "   iterator = tqdm.tqdm(enumerate(loader, 0), total=len(loader))\n",
        "\n",
        "   for i, data in iterator:\n",
        "       D_optim.zero_grad()\n",
        "\n",
        "       # ➊ 실제 이미지에는 1, 생성된 이미지는 0으로 정답을 설정\n",
        "       label = torch.ones_like(data[1], dtype=torch.float32).to(device)\n",
        "       label_fake = torch.zeros_like(data[1], dtype=torch.float32).to(device)\n",
        "\n",
        "       # ➋ 실제 이미지를 감별자에 입력\n",
        "       real = D(data[0].to(device))\n",
        "\n",
        "       # ❸ 실제 이미지에 대한 감별자의 오차를 계산\n",
        "       Dloss_real = nn.BCELoss()(torch.squeeze(real), label)\n",
        "       Dloss_real.backward()\n",
        "       # ➊ 가짜 이미지 생성\n",
        "       noise = torch.randn(label.shape[0], 100, 1, 1, device=device)\n",
        "       fake = G(noise)\n",
        "\n",
        "       # 가짜 이미지를 감별자에 입력\n",
        "       output = D(fake.detach())\n",
        "\n",
        "       # 가짜 이미지에 대한 감별자의 오차를 계산\n",
        "       Dloss_fake = nn.BCELoss()(torch.squeeze(output), label_fake)\n",
        "       Dloss_fake.backward()\n",
        "\n",
        "       # ➋ 감별자의 전체 오차를 학습\n",
        "       Dloss = Dloss_real + Dloss_fake\n",
        "       D_optim.step()\n",
        "       # ➊ 생성자의 학습\n",
        "       G_optim.zero_grad()\n",
        "       output = D(fake)\n",
        "       Gloss = nn.BCELoss()(torch.squeeze(output), label)\n",
        "       Gloss.backward()\n",
        "\n",
        "       G_optim.step()\n",
        "\n",
        "       iterator.set_description(f\"epoch:{epochs} iteration:{i} D_loss:{Dloss} G_loss:{Gloss}\")\n",
        "\n",
        "torch.save(G.state_dict(), \"Generator.pth\")\n",
        "torch.save(D.state_dict(), \"Discriminator.pth\")"
      ],
      "metadata": {
        "id": "hwI4m0J1R25s"
      },
      "execution_count": null,
      "outputs": []
    },
    {
      "cell_type": "code",
      "source": [
        "with torch.no_grad():\n",
        "   G.load_state_dict(\n",
        "       torch.load(\"./Generator.pth\", map_location=device))\n",
        "\n",
        "   # 특징 공간 상의 랜덤한 하나의 점을 지정\n",
        "   feature_vector = torch.randn(1, 100, 1, 1).to(device)\n",
        "   # 이미지 생성\n",
        "   pred = G(feature_vector).squeeze()\n",
        "   pred = pred.permute(1, 2, 0).cpu().numpy()\n",
        "\n",
        "   plt.imshow(pred)\n",
        "   plt.title(\"predicted image\")\n",
        "   plt.show()"
      ],
      "metadata": {
        "colab": {
          "base_uri": "https://localhost:8080/",
          "height": 299
        },
        "id": "QLVPPLsBSA15",
        "outputId": "668d9377-4816-478e-c4d5-10609c09455b"
      },
      "execution_count": null,
      "outputs": [
        {
          "output_type": "stream",
          "name": "stderr",
          "text": [
            "Clipping input data to the valid range for imshow with RGB data ([0..1] for floats or [0..255] for integers).\n"
          ]
        },
        {
          "output_type": "display_data",
          "data": {
            "text/plain": [
              "<Figure size 432x288 with 1 Axes>"
            ],
            "image/png": "[encoded data removed]"
          },
          "metadata": {
            "needs_background": "light"
          }
        }
      ]
    }
  ]
}