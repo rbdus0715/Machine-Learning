{
  "nbformat": 4,
  "nbformat_minor": 0,
  "metadata": {
    "colab": {
      "provenance": [],
      "authorship_tag": "ABX9TyOKiHDvLWU/hiB0rS6WTVwz",
      "include_colab_link": true
    },
    "kernelspec": {
      "name": "python3",
      "display_name": "Python 3"
    },
    "language_info": {
      "name": "python"
    }
  },
  "cells": [
    {
      "cell_type": "markdown",
      "metadata": {
        "id": "view-in-github",
        "colab_type": "text"
      },
      "source": [
        "<a href=\"https://colab.research.google.com/github/rbdus0715/Machine-Learning/blob/main/study/torch/2.cnn_vgg.ipynb\" target=\"_parent\"><img src=\"https://colab.research.google.com/assets/colab-badge.svg\" alt=\"Open In Colab\"/></a>"
      ]
    },
    {
      "cell_type": "markdown",
      "source": [
        "# **CNN CIFAR10 사진 분류하기**"
      ],
      "metadata": {
        "id": "bvF6u-L5tm6M"
      }
    },
    {
      "cell_type": "markdown",
      "source": [
        "### **(1) 모델 정의**"
      ],
      "metadata": {
        "id": "681avVb8tsRg"
      }
    },
    {
      "cell_type": "code",
      "execution_count": 26,
      "metadata": {
        "id": "VttyOPeepwwd"
      },
      "outputs": [],
      "source": [
        "import torch\n",
        "import torch.nn as nn\n",
        "\n",
        "class BasicBlock(nn.Module):\n",
        "\n",
        "    def __init__(self, in_channels, out_channels, hidden_dim):\n",
        "        super(BasicBlock, self).__init__()\n",
        "\n",
        "        self.conv1 = nn.Conv2d(in_channels, hidden_dim, kernel_size=3, padding=1)\n",
        "        self.conv2 = nn.Conv2d(hidden_dim, out_channels, kernel_size=3, padding=1)\n",
        "        self.relu = nn.ReLU()\n",
        "        self.pool = nn.MaxPool2d(kernel_size=2, stride=2)\n",
        "\n",
        "    def forward(self, x):\n",
        "        x = self.conv1(x)\n",
        "        x = self.relu(x)\n",
        "        x = self.conv2(x)\n",
        "        x = self.relu(x)\n",
        "        x = self.pool(x)\n",
        "        return x"
      ]
    },
    {
      "cell_type": "code",
      "source": [
        "class CNN(nn.Module):\n",
        "    def __init__(self, num_classes):\n",
        "        super(CNN, self).__init__()\n",
        "        self.block1 = BasicBlock(in_channels=3, out_channels=32, hidden_dim=16)\n",
        "        self.block2 = BasicBlock(in_channels=32, out_channels=128, hidden_dim=64)\n",
        "        self.block3 = BasicBlock(in_channels=128, out_channels=256, hidden_dim=128)\n",
        "\n",
        "        # 4096 = 4 x 4 x 256\n",
        "        self.fc1 = nn.Linear(in_features=4096, out_features=2048)\n",
        "        self.fc2 = nn.Linear(in_features=2048, out_features=256)\n",
        "        self.fc3 = nn.Linear(in_features=256, out_features=num_classes)\n",
        "\n",
        "        self.relu = nn.ReLU()\n",
        "\n",
        "    def forward(self, x):\n",
        "        x = self.block1(x)\n",
        "        x = self.block2(x)\n",
        "        x = self.block3(x)\n",
        "        # => 출력 shape: (batch, 256, 4, 4)\n",
        "        x = torch.flatten(x, start_dim=1)\n",
        "        # => 출력 shape: (batch, 4096)\n",
        "\n",
        "        x = self.fc1(x)\n",
        "        x = self.relu(x)\n",
        "        x = self.fc2(x)\n",
        "        x = self.relu(x)\n",
        "        x = self.fc3(x)\n",
        "\n",
        "        return x"
      ],
      "metadata": {
        "id": "b1G108xOrT5w"
      },
      "execution_count": 27,
      "outputs": []
    },
    {
      "cell_type": "markdown",
      "source": [
        "### **(2) 데이터 전처리 및 로드**"
      ],
      "metadata": {
        "id": "pzyQ7Y2atvNL"
      }
    },
    {
      "cell_type": "code",
      "source": [
        "from torch.utils.data.dataloader import DataLoader\n",
        "from torch.optim.adam import Adam\n",
        "from torchvision.transforms import Compose, RandomCrop, RandomHorizontalFlip, ToTensor, Normalize\n",
        "from torchvision.datasets import CIFAR10\n",
        "\n",
        "transforms = Compose([\n",
        "    RandomCrop((32, 32), padding=4),\n",
        "    RandomHorizontalFlip(p=0.5),\n",
        "    ToTensor(),\n",
        "    Normalize(mean=(0.4914, 0.4822, 0.4465), std=(0.247, 0.243, 0.261))\n",
        "])\n",
        "\n",
        "training_data = CIFAR10(root=\"./\", train=True, download=True, transform=transforms)\n",
        "test_data = CIFAR10(root=\"./\", train=False, download=True, transform=transforms)\n",
        "train_loader = DataLoader(training_data, batch_size=32, shuffle=True)\n",
        "test_loader = DataLoader(test_data, batch_size=32, shuffle=False)"
      ],
      "metadata": {
        "colab": {
          "base_uri": "https://localhost:8080/"
        },
        "id": "GBJuCT84s1jN",
        "outputId": "1cd2ad79-72f5-4633-91d1-adf96317d68a"
      },
      "execution_count": 28,
      "outputs": [
        {
          "output_type": "stream",
          "name": "stdout",
          "text": [
            "Files already downloaded and verified\n",
            "Files already downloaded and verified\n"
          ]
        }
      ]
    },
    {
      "cell_type": "markdown",
      "source": [
        "### **(3) 모델 정의**"
      ],
      "metadata": {
        "id": "SpSoUEOovbmK"
      }
    },
    {
      "cell_type": "code",
      "source": [
        "device = \"cuda\" if torch.cuda.is_available() else \"cpu\"\n",
        "\n",
        "model = CNN(num_classes=10)\n",
        "model.to(device)"
      ],
      "metadata": {
        "colab": {
          "base_uri": "https://localhost:8080/"
        },
        "id": "Gvrv5nA2uRvz",
        "outputId": "a627e501-371d-4347-9b84-868603fe4ed4"
      },
      "execution_count": 29,
      "outputs": [
        {
          "output_type": "execute_result",
          "data": {
            "text/plain": [
              "CNN(\n",
              "  (block1): BasicBlock(\n",
              "    (conv1): Conv2d(3, 16, kernel_size=(3, 3), stride=(1, 1), padding=(1, 1))\n",
              "    (conv2): Conv2d(16, 32, kernel_size=(3, 3), stride=(1, 1), padding=(1, 1))\n",
              "    (relu): ReLU()\n",
              "    (pool): MaxPool2d(kernel_size=2, stride=2, padding=0, dilation=1, ceil_mode=False)\n",
              "  )\n",
              "  (block2): BasicBlock(\n",
              "    (conv1): Conv2d(32, 64, kernel_size=(3, 3), stride=(1, 1), padding=(1, 1))\n",
              "    (conv2): Conv2d(64, 128, kernel_size=(3, 3), stride=(1, 1), padding=(1, 1))\n",
              "    (relu): ReLU()\n",
              "    (pool): MaxPool2d(kernel_size=2, stride=2, padding=0, dilation=1, ceil_mode=False)\n",
              "  )\n",
              "  (block3): BasicBlock(\n",
              "    (conv1): Conv2d(128, 128, kernel_size=(3, 3), stride=(1, 1), padding=(1, 1))\n",
              "    (conv2): Conv2d(128, 256, kernel_size=(3, 3), stride=(1, 1), padding=(1, 1))\n",
              "    (relu): ReLU()\n",
              "    (pool): MaxPool2d(kernel_size=2, stride=2, padding=0, dilation=1, ceil_mode=False)\n",
              "  )\n",
              "  (fc1): Linear(in_features=4096, out_features=2048, bias=True)\n",
              "  (fc2): Linear(in_features=2048, out_features=256, bias=True)\n",
              "  (fc3): Linear(in_features=256, out_features=10, bias=True)\n",
              "  (relu): ReLU()\n",
              ")"
            ]
          },
          "metadata": {},
          "execution_count": 29
        }
      ]
    },
    {
      "cell_type": "markdown",
      "source": [
        "### **(4) 훈련**"
      ],
      "metadata": {
        "id": "R09AvjE-vyNS"
      }
    },
    {
      "cell_type": "code",
      "source": [
        "lr = 1e-3\n",
        "optim = Adam(model.parameters(), lr=lr)\n",
        "\n",
        "for epoch in range(100):\n",
        "    for data, label in train_loader:\n",
        "        optim.zero_grad()\n",
        "        preds = model(data.to(device))\n",
        "\n",
        "        loss = nn.CrossEntropyLoss()(preds, label.to(device))\n",
        "        loss.backward()\n",
        "        optim.step()\n",
        "\n",
        "    if epoch==0 or epoch%10==9:\n",
        "        print(f\"epoch: {epoch+1}, loss: {loss.item()}\")\n",
        "\n",
        "torch.save(model.state_dict(), \"CIFAR.pth\")"
      ],
      "metadata": {
        "id": "a0sCVg-r3eAp"
      },
      "execution_count": null,
      "outputs": []
    },
    {
      "cell_type": "markdown",
      "source": [
        "### **(5) 테스트**"
      ],
      "metadata": {
        "id": "n0hoSCla0Ioq"
      }
    },
    {
      "cell_type": "code",
      "source": [
        "model.load_state_dict(torch.load(\"CIFAR.pth\", map_location=device))\n",
        "\n",
        "num_corr = 0\n",
        "\n",
        "with torch.no_grad():\n",
        "    for data, label in test_loader:\n",
        "        output = model(data.to(device))\n",
        "        preds = output.data.max(1)[1]\n",
        "        corr = preds.eq(label.to(device).data).sum().item()\n",
        "        num_corr += corr\n",
        "\n",
        "    print(f\"accuracy: {num_corr/len(test_data)}\")"
      ],
      "metadata": {
        "id": "vlH9E--w3gIf"
      },
      "execution_count": null,
      "outputs": []
    },
    {
      "cell_type": "markdown",
      "source": [
        "# **2. VGG**"
      ],
      "metadata": {
        "id": "f7XbOEZw2JNA"
      }
    },
    {
      "cell_type": "code",
      "source": [
        "import torch\n",
        "import torch.nn as nn\n",
        "from torchvision.models.vgg import vgg16\n",
        "\n",
        "device = \"cuda\" if torch.cuda.is_available() else \"cpu\"\n",
        "\n",
        "model = vgg16(pretrained=True)\n",
        "fc = nn.Sequential(\n",
        "    nn.Linear(512*7*7, 4096),\n",
        "    nn.ReLU(),\n",
        "    nn.Dropout(),\n",
        "    nn.Linear(4096, 4096),\n",
        "    nn.ReLU(),\n",
        "    nn.Dropout(),\n",
        "    nn.Linear(4096, 10),\n",
        ")\n",
        "\n",
        "model.classifier = fc\n",
        "model.to(device)"
      ],
      "metadata": {
        "id": "YTrBYIGt3ivQ"
      },
      "execution_count": null,
      "outputs": []
    },
    {
      "cell_type": "code",
      "source": [
        "import tqdm\n",
        "from torchvision.datasets.cifar import CIFAR10\n",
        "from torchvision.transforms import Compose, ToTensor, Resize\n",
        "from torch.utils.data.dataloader import DataLoader\n",
        "from torch.optim.adam import Adam\n",
        "\n",
        "transforms = Compose([\n",
        "    Resize(224),\n",
        "    RandomCrop((224, 224), padding=4),\n",
        "    RandomHorizontalFlip(p=0.5),\n",
        "    ToTensor(),\n",
        "    Normalize(mean=(0.4914, 0.4822, 0.4465), std=(0.247, 0.243, 0.261))\n",
        "])\n",
        "\n",
        "training_data = CIFAR10(root=\"./\", train=True, download=True, transform=transforms)\n",
        "test_data = CIFAR10(root=\"./\", train=False, download=True, transform=transforms)\n",
        "train_loader = DataLoader(training_data, batch_size=32, shuffle=True)\n",
        "test_loader = DataLoader(test_data, batch_size=32, shuffle=False)"
      ],
      "metadata": {
        "colab": {
          "base_uri": "https://localhost:8080/"
        },
        "id": "E1T3Oltt3jjC",
        "outputId": "d2e43647-e757-4546-9bcb-ee413037b5b7"
      },
      "execution_count": 38,
      "outputs": [
        {
          "output_type": "stream",
          "name": "stdout",
          "text": [
            "Files already downloaded and verified\n",
            "Files already downloaded and verified\n"
          ]
        }
      ]
    },
    {
      "cell_type": "code",
      "source": [
        "lr = 1e-4\n",
        "optim = Adam(model.parameters(), lr=lr)\n",
        "\n",
        "for epoch in range(30):\n",
        "    iterator = tqdm.tqdm(train_loader)\n",
        "    for data, label in iterator:\n",
        "        optim.zero_grad()\n",
        "\n",
        "        preds = model(data.to(device))\n",
        "        loss = nn.CrossEntropyLoss()(preds, label.to(device))\n",
        "        loss.backward()\n",
        "        optim.step()\n",
        "\n",
        "        iterator.set_description(f\"epoch: {epoch+1} loss: {loss.item()}\")\n",
        "\n",
        "torch.save(model.state_dict(), \"CIFAR_pretrained.pth\")"
      ],
      "metadata": {
        "id": "ZWTcv5Yl6Pn8"
      },
      "execution_count": null,
      "outputs": []
    },
    {
      "cell_type": "code",
      "source": [
        "model.load_state_dict(torch.load(\"CIFAR_pretrained.pth\", map_location=device))\n",
        "\n",
        "num_corr = 0\n",
        "\n",
        "with torch.no_grad():\n",
        "    for data, label in test_loader:\n",
        "        output = model(data.to(device))\n",
        "        preds = output.data.max(1)[1]\n",
        "        corr = preds.eq(label.to(device).data).sum().item()\n",
        "        num_corr += corr\n",
        "\n",
        "    print(f\"accuracy: {num_corr/len(test_data)}\")"
      ],
      "metadata": {
        "id": "mi_fhDF0526T"
      },
      "execution_count": null,
      "outputs": []
    }
  ]
}